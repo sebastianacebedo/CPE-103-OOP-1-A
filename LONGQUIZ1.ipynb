{
  "nbformat": 4,
  "nbformat_minor": 0,
  "metadata": {
    "colab": {
      "provenance": [],
      "authorship_tag": "ABX9TyNUdK5LVghZ3q4T0mgera/b",
      "include_colab_link": true
    },
    "kernelspec": {
      "name": "python3",
      "display_name": "Python 3"
    },
    "language_info": {
      "name": "python"
    }
  },
  "cells": [
    {
      "cell_type": "markdown",
      "metadata": {
        "id": "view-in-github",
        "colab_type": "text"
      },
      "source": [
        "<a href=\"https://colab.research.google.com/github/sebastianacebedo/CPE-103-OOP-1-A/blob/main/LONGQUIZ1.ipynb\" target=\"_parent\"><img src=\"https://colab.research.google.com/assets/colab-badge.svg\" alt=\"Open In Colab\"/></a>"
      ]
    },
    {
      "cell_type": "code",
      "execution_count": 19,
      "metadata": {
        "colab": {
          "base_uri": "https://localhost:8080/"
        },
        "id": "TqSaJURjnlNL",
        "outputId": "a6f69994-c685-4f1c-96d3-0a4769522ca6"
      },
      "outputs": [
        {
          "output_type": "stream",
          "name": "stdout",
          "text": [
            "Enter your student ID: 20240001\n",
            "Enter your Name: ANA\n",
            "Enter your Program: BSCPE\n",
            "Enter your Sex: FEMALE\n",
            "Enter your Weight in kg : 48\n",
            "Enter your Height in cm: 150\n",
            "Enter your Courses: CPE\n",
            "\n",
            "Midterm Grade:\n",
            "Note: Enter only the Summation of your grade that divided by the number of your given quiz, seatwork, assignment(over 100)\n",
            "Enter Total Quiz grade: 90\n",
            "Enter Total activity: 90\n",
            "Enter Total assignment's grade: 90\n",
            "Enter Exam grade: 91\n",
            "\n",
            "Final Grade:\n",
            "Enter only the Summation of your grade that divided by the number of your given quiz, seatwork, assignment(over 100)\n",
            "Enter Total Quiz grade: 92\n",
            "Enter Total activity: 90\n",
            "Enter Total assignment's grade: 91\n",
            "Enter Exam grade: 90\n",
            "\n",
            "Midterm Grade:  90.50\n",
            "Final Grade:  90.43\n",
            "\n",
            "Enter your student ID: 20240002\n",
            "Enter your Name: MENCH\n",
            "Enter your Program: BSCPE\n",
            "Enter your Sex: MALE\n",
            "Enter your Weight in kg : 58\n",
            "Enter your Height in cm: 165\n",
            "Enter your Courses: CPE\n",
            "\n",
            "Midterm Grade:\n",
            "Note: Enter only the Summation of your grade that divided by the number of your given quiz, seatwork, assignment(over 100)\n",
            "Enter Total Quiz grade: 95\n",
            "Enter Total activity: 92\n",
            "Enter Total assignment's grade: 93\n",
            "Enter Exam grade: 94\n",
            "\n",
            "Final Grade:\n",
            "Enter only the Summation of your grade that divided by the number of your given quiz, seatwork, assignment(over 100)\n",
            "Enter Total Quiz grade: 95\n",
            "Enter Total activity: 93\n",
            "Enter Total assignment's grade: 92\n",
            "Enter Exam grade: 94\n",
            "\n",
            "Midterm Grade:  93.55\n",
            "Final Grade:  93.65\n",
            "\n",
            "Enter your student ID: 20240003\n",
            "Enter your Name: JOHN\n",
            "Enter your Program: BSCPE\n",
            "Enter your Sex: MALE\n",
            "Enter your Weight in kg : 64\n",
            "Enter your Height in cm: 170\n",
            "Enter your Courses: CPE\n",
            "\n",
            "Midterm Grade:\n",
            "Note: Enter only the Summation of your grade that divided by the number of your given quiz, seatwork, assignment(over 100)\n",
            "Enter Total Quiz grade: 90\n",
            "Enter Total activity: 89\n",
            "Enter Total assignment's grade: 90\n",
            "Enter Exam grade: 91\n",
            "\n",
            "Final Grade:\n",
            "Enter only the Summation of your grade that divided by the number of your given quiz, seatwork, assignment(over 100)\n",
            "Enter Total Quiz grade: 90\n",
            "Enter Total activity: 88\n",
            "Enter Total assignment's grade: 89\n",
            "Enter Exam grade: 90\n",
            "\n",
            "Midterm Grade:  90.25\n",
            "Final Grade:  89.68\n",
            "\n"
          ]
        }
      ],
      "source": [
        "class Student:\n",
        "    def __init__(self):\n",
        "      self.student_id = int(input(\"Enter your student ID: \"))\n",
        "      self.student_name = input(\"Enter your Name: \")\n",
        "      self.student_program = input(\"Enter your Program: \")\n",
        "      self.student_sex = input(\"Enter your Sex: \")\n",
        "      self.student_weight = float(input(\"Enter your Weight in kg : \"))\n",
        "      self.student_height = float(input(\"Enter your Height in cm: \"))\n",
        "      self.student_courses = input(\"Enter your Courses: \")\n",
        "\n",
        "      print()\n",
        "      print(\"Midterm Grade:\")\n",
        "      print(\"Note: Enter only the Summation of your grade that divided by the number of your given quiz, seatwork, assignment(over 100)\")\n",
        "\n",
        "      #Midterm Grade\n",
        "      quiz = float(input(\"Enter Total Quiz grade: \"))\n",
        "      activity = float(input(\"Enter Total activity: \"))\n",
        "      assignment = float(input(\"Enter Total assignment's grade: \"))\n",
        "      exam = float(input(\"Enter Exam grade: \"))\n",
        "\n",
        "      written_works = quiz*.3 + activity*.5 + assignment*.2\n",
        "      midterm_grade = exam*.5 + written_works*.5\n",
        "      print()\n",
        "\n",
        "      #Final Grade\n",
        "      print(\"Final Grade:\")\n",
        "      print(\"Enter only the Summation of your grade that divided by the number of your given quiz, seatwork, assignment(over 100)\")\n",
        "      quiz = float(input(\"Enter Total Quiz grade: \"))\n",
        "      activity = float(input(\"Enter Total activity: \"))\n",
        "      assignment = float(input(\"Enter Total assignment's grade: \"))\n",
        "      exam = float(input(\"Enter Exam grade: \"))\n",
        "\n",
        "      written_works = quiz*.3 + activity*.5 + assignment*.2\n",
        "      final_grade = midterm_grade*1/3 + 2/3* ((0.5* exam + 0.5* written_works))\n",
        "      print()\n",
        "\n",
        "      print(\"Midterm Grade: \", \"%.2f\" % midterm_grade)\n",
        "      print(\"Final Grade: \", \"%.2f\" % final_grade)\n",
        "      print()\n",
        "\n",
        "st1 = Student()\n",
        "st2 = Student()\n",
        "st3 = Student()\n",
        "\n"
      ]
    },
    {
      "cell_type": "markdown",
      "source": [],
      "metadata": {
        "id": "oOFQuDEqBDHx"
      }
    }
  ]
}
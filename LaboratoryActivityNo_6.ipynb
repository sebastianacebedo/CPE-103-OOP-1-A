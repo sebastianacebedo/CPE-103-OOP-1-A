{
  "nbformat": 4,
  "nbformat_minor": 0,
  "metadata": {
    "colab": {
      "provenance": [],
      "toc_visible": true,
      "include_colab_link": true
    },
    "kernelspec": {
      "name": "python3",
      "display_name": "Python 3"
    },
    "language_info": {
      "name": "python"
    }
  },
  "cells": [
    {
      "cell_type": "markdown",
      "metadata": {
        "id": "view-in-github",
        "colab_type": "text"
      },
      "source": [
        "<a href=\"https://colab.research.google.com/github/sebastianacebedo/CPE-103-OOP-1-A/blob/main/LaboratoryActivityNo_6.ipynb\" target=\"_parent\"><img src=\"https://colab.research.google.com/assets/colab-badge.svg\" alt=\"Open In Colab\"/></a>"
      ]
    },
    {
      "cell_type": "code",
      "execution_count": 5,
      "metadata": {
        "id": "_f6RjF3oJFJw"
      },
      "outputs": [],
      "source": [
        "class Character():\n",
        "    def __init__(self, username):\n",
        "        self._username = username\n",
        "        self._hp = 100\n",
        "        self._mana = 100\n",
        "        self._damage = 5\n",
        "        self._str = 0\n",
        "        self._vit = 0\n",
        "        self._int = 0\n",
        "        self._agi = 0\n",
        "\n",
        "    def getUsername(self):\n",
        "        return self._username\n",
        "\n",
        "    def setUsername(self, new_username):\n",
        "        self._username = new_username\n",
        "\n",
        "    def getHp(self):\n",
        "        return self._hp\n",
        "\n",
        "    def setHp(self, new_hp):\n",
        "        self._hp = new_hp\n",
        "\n",
        "    def getDamage(self):\n",
        "        return self._damage\n",
        "\n",
        "    def setDamage(self, new_damage):\n",
        "        self._damage = new_damage  #\n",
        "\n",
        "    def getStr(self):\n",
        "        return self._str\n",
        "\n",
        "    def setStr(self, new_str):\n",
        "        self._str = new_str\n",
        "\n",
        "    def getVit(self):\n",
        "        return self._vit\n",
        "\n",
        "    def setVit(self, new_vit):\n",
        "        self._vit = new_vit\n",
        "\n",
        "    def getInt(self):\n",
        "        return self._int\n",
        "\n",
        "    def setInt(self, new_int):\n",
        "        self._int = new_int\n",
        "\n",
        "    def getAgi(self):\n",
        "        return self._agi\n",
        "\n",
        "    def setAgi(self, new_agi):\n",
        "        self._agi = new_agi\n",
        "\n",
        "    def reduceHp(self, damage_amount):\n",
        "        self._hp = self._hp - damage_amount\n",
        "\n",
        "    def addHp(self, heal_amount):\n",
        "        self._hp = self._hp + heal_amount"
      ]
    },
    {
      "cell_type": "code",
      "source": [
        "character1 = Character(\"JK\")\n",
        "print(character1._username)\n",
        "print(character1.getUsername())"
      ],
      "metadata": {
        "colab": {
          "base_uri": "https://localhost:8080/"
        },
        "id": "9iXEZbKRKXRY",
        "outputId": "4ccbbe9c-1a97-4555-82a7-36a5c3ff056e"
      },
      "execution_count": 2,
      "outputs": [
        {
          "output_type": "stream",
          "name": "stdout",
          "text": [
            "JK\n",
            "JK\n"
          ]
        }
      ]
    },
    {
      "cell_type": "markdown",
      "source": [
        "**Observation:** Both methods give the same result, but they work differently. The first one gets the value by just using the variable name, while the second one gets it by calling a method from the class.\n",
        "\n",
        "\n",
        "\n"
      ],
      "metadata": {
        "id": "NbQYvDryKoxP"
      }
    },
    {
      "cell_type": "markdown",
      "source": [
        "# Single Inheritance"
      ],
      "metadata": {
        "id": "JxCKCyz3Ljc2"
      }
    },
    {
      "cell_type": "code",
      "source": [
        "class Novice(Character):\n",
        "    def basicAttack(self, character):\n",
        "        character.reduceHp(self.getDamage())\n",
        "        print(f\"{self.getUsername()} performed Basic Attack! -{self.getDamage()}\")"
      ],
      "metadata": {
        "id": "Gf4AeTteLYiA"
      },
      "execution_count": 6,
      "outputs": []
    },
    {
      "cell_type": "code",
      "source": [
        "character1 = Novice(\"Sebastian\")\n",
        "print(character1.getUsername())\n",
        "print(character1.getHp())"
      ],
      "metadata": {
        "colab": {
          "base_uri": "https://localhost:8080/"
        },
        "id": "JMm9D8-SMQio",
        "outputId": "0159228c-1e29-4505-a5d8-0fe1143d91ca"
      },
      "execution_count": 7,
      "outputs": [
        {
          "output_type": "stream",
          "name": "stdout",
          "text": [
            "Sebastian\n",
            "100\n"
          ]
        }
      ]
    },
    {
      "cell_type": "markdown",
      "source": [
        "# Multi-level Inheritance"
      ],
      "metadata": {
        "id": "fhyPP82wLimR"
      }
    },
    {
      "cell_type": "code",
      "source": [
        "class Swordsman(Novice):\n",
        "    def __init__(self, username):\n",
        "        super().__init__(username)\n",
        "        self.setStr(5)\n",
        "        self.setVit(10)\n",
        "        self.setHp(self.getHp() + self.getVit())\n",
        "\n",
        "    def slashAttack(self, character):\n",
        "        new_damage = self.getDamage() + self.getStr()\n",
        "        character.reduceHp(new_damage)\n",
        "        print(f\"{self.getUsername()} performed Slash Attack! -{new_damage}\")"
      ],
      "metadata": {
        "id": "Ur-sGSHfLib-"
      },
      "execution_count": 8,
      "outputs": []
    },
    {
      "cell_type": "code",
      "source": [
        "import random\n",
        "\n",
        "class Archer(Novice):\n",
        "    def __init__(self, username):\n",
        "        super().__init__(username)\n",
        "        self.setAgi(5)\n",
        "        self.setInt(5)\n",
        "        self.setVit(5)\n",
        "        self.setHp(self.getHp() + self.getVit())\n",
        "\n",
        "    def rangedAttack(self, character):\n",
        "        new_damage = self.getDamage() + random.randint(0, self.getInt())\n",
        "        character.reduceHp(new_damage)\n",
        "        print(f\"{self.getUsername()} performed Ranged Attack! -{new_damage}\")"
      ],
      "metadata": {
        "id": "HMNcHU8_N2U9"
      },
      "execution_count": null,
      "outputs": []
    },
    {
      "cell_type": "code",
      "source": [
        "class Magician(Novice):\n",
        "    def __init__(self, username):\n",
        "        super().__init__(username)\n",
        "        self.setInt(10)\n",
        "        self.setVit(5)\n",
        "        self.setHp(self.getHp() + self.getVit())\n",
        "\n",
        "    def heal(self):\n",
        "        self.addHp(self.getInt())\n",
        "        print(f\"{self.getUsername()} performed Heal! +{self.getInt()}\")\n",
        "\n",
        "    def magicAttack(self, character):\n",
        "        new_damage = self.getDamage() + self.getInt()\n",
        "        character.reduceHp(new_damage)\n",
        "        print(f\"{self.getUsername()} performed Magic Attack! -{new_damage}\")"
      ],
      "metadata": {
        "id": "QxiqHK7sOh3H"
      },
      "execution_count": null,
      "outputs": []
    },
    {
      "cell_type": "code",
      "source": [
        "Character1 = Swordsman(\"Royce\")\n",
        "Character2 = Magician(\"Archie\")\n",
        "\n",
        "print(f\"{Character1.getUsername()} HP: {Character1.getHp()}\")\n",
        "print(f\"{Character2.getUsername()} HP: {Character2.getHp()}\")\n",
        "\n",
        "Character1.slashAttack(Character2)\n",
        "Character1.basicAttack(Character2)\n",
        "\n",
        "print(f\"{Character1.getUsername()} HP: {Character1.getHp()}\")\n",
        "print(f\"{Character2.getUsername()} HP: {Character2.getHp()}\")\n",
        "\n",
        "Character2.heal()\n",
        "Character2.magicAttack(Character1)\n",
        "\n",
        "print(f\"{Character1.getUsername()} HP: {Character1.getHp()}\")\n",
        "print(f\"{Character2.getUsername()} HP: {Character2.getHp()}\")"
      ],
      "metadata": {
        "colab": {
          "base_uri": "https://localhost:8080/"
        },
        "id": "eV6W-V3FOr_V",
        "outputId": "bc101470-71c6-46a2-9635-cbcc8085f962"
      },
      "execution_count": null,
      "outputs": [
        {
          "output_type": "stream",
          "name": "stdout",
          "text": [
            "Royce HP: 110\n",
            "Archie HP: 105\n",
            "Royce performed Slash Attack! -10\n",
            "Royce performed Basic Attack! -5\n",
            "Royce HP: 110\n",
            "Archie HP: 90\n",
            "Archie performed Heal! +10\n",
            "Archie performed Magic Attack! -15\n",
            "Royce HP: 95\n",
            "Archie HP: 100\n"
          ]
        }
      ]
    },
    {
      "cell_type": "markdown",
      "source": [
        "# Multiple Inheritance"
      ],
      "metadata": {
        "id": "Cs6PYpd-O0dO"
      }
    },
    {
      "cell_type": "code",
      "source": [
        "class Boss(Swordsman, Archer, Magician):\n",
        "    def __init__(self, username):\n",
        "        Swordsman.__init__(self, username)\n",
        "        Archer.__init__(self, username)\n",
        "        Magician.__init__(self, username)\n",
        "\n",
        "        self.setStr(10)\n",
        "        self.setVit(25)\n",
        "        self.setInt(5)\n",
        "        self.setHp(self.getHp() + self.getVit())"
      ],
      "metadata": {
        "id": "KtA694bnOzd-"
      },
      "execution_count": null,
      "outputs": []
    },
    {
      "cell_type": "code",
      "source": [
        "Character1 = Swordsman(\"Royce\")\n",
        "Character2 = Boss(\"Archie\")\n",
        "\n",
        "print(f\"{Character1.getUsername()} HP: {Character1.getHp()}\")\n",
        "print(f\"{Character2.getUsername()} HP: {Character2.getHp()}\")\n",
        "\n",
        "Character1.slashAttack(Character2)\n",
        "Character1.basicAttack(Character2)\n",
        "\n",
        "print(f\"{Character1.getUsername()} HP: {Character1.getHp()}\")\n",
        "print(f\"{Character2.getUsername()} HP: {Character2.getHp()}\")\n",
        "\n",
        "Character2.heal()\n",
        "Character2.basicAttack(Character1)\n",
        "Character2.slashAttack(Character1)\n",
        "Character2.rangedAttack(Character1)\n",
        "Character2.magicAttack(Character1)\n",
        "\n",
        "print(f\"{Character1.getUsername()} HP: {Character1.getHp()}\")\n",
        "print(f\"{Character2.getUsername()} HP: {Character2.getHp()}\")"
      ],
      "metadata": {
        "colab": {
          "base_uri": "https://localhost:8080/"
        },
        "id": "OA5egrMWPSr3",
        "outputId": "1a2f7721-85c4-493d-fc8b-37b8c2a4eb67"
      },
      "execution_count": null,
      "outputs": [
        {
          "output_type": "stream",
          "name": "stdout",
          "text": [
            "Royce HP: 110\n",
            "Archie HP: 130\n",
            "Royce performed Slash Attack! -10\n",
            "Royce performed Basic Attack! -5\n",
            "Royce HP: 110\n",
            "Archie HP: 115\n",
            "Archie performed Heal! +5\n",
            "Archie performed Basic Attack! -5\n",
            "Archie performed Slash Attack! -15\n",
            "Archie performed Ranged Attack! -8\n",
            "Archie performed Magic Attack! -10\n",
            "Royce HP: 72\n",
            "Archie HP: 120\n"
          ]
        }
      ]
    },
    {
      "cell_type": "markdown",
      "source": [
        "# Supplementary Activity"
      ],
      "metadata": {
        "id": "slB86Cl9QA6F"
      }
    },
    {
      "cell_type": "code",
      "source": [
        "import random\n",
        "\n",
        "class Player:\n",
        "    def __init__(self, name, role):\n",
        "        self.name = name\n",
        "        self.role = role\n",
        "        self.hp = 100\n",
        "        self.attack_power = 10\n",
        "        self.defense = 5\n",
        "\n",
        "    def change_role(self, new_role):\n",
        "        self.role = new_role\n",
        "        if self.role == \"Swordsman\":\n",
        "            self.attack_power = 15\n",
        "            self.defense = 10\n",
        "        elif self.role == \"Archer\":\n",
        "            self.attack_power = 12\n",
        "            self.defense = 8\n",
        "        elif self.role == \"Magician\":\n",
        "            self.attack_power = 10\n",
        "            self.defense = 6\n",
        "\n",
        "    def take_damage(self, damage):\n",
        "        self.hp -= max(0, damage - self.defense)\n",
        "\n",
        "    def is_alive(self):\n",
        "        return self.hp > 0\n",
        "\n",
        "class Monster(Player):\n",
        "    def __init__(self, name=\"Monster\"):\n",
        "        super().__init__(name, \"Monster\")\n",
        "        self.hp = 150\n",
        "        self.attack_power = 20\n",
        "        self.defense = 15\n",
        "\n",
        "class Game:\n",
        "    def __init__(self):\n",
        "        self.matches_played = 0\n",
        "        self.player_wins = 0\n",
        "        self.opponent_wins = 0\n",
        "\n",
        "    def select_mode(self):\n",
        "        print(\"Welcome to the Game\")\n",
        "        print(\"Select game mode: \")\n",
        "        print(\"1. Single Player\")\n",
        "        print(\"2. Player vs Player\")\n",
        "\n",
        "        mode = input(\"Choose mode (1 or 2): \")\n",
        "        if mode == \"1\":\n",
        "            self.single_player()\n",
        "        elif mode == \"2\":\n",
        "            self.player_vs_player()\n",
        "        else:\n",
        "            print(\"Invalid mode selected! Please choose again.\")\n",
        "            self.select_mode()\n",
        "\n",
        "    def single_player(self):\n",
        "        print(\"\\n Single Player Mode\")\n",
        "        player_name = input(\"Enter your player name: \")\n",
        "        player = Player(player_name, \"Novice\")\n",
        "        monster = Monster()\n",
        "        wins = 0\n",
        "        while player.is_alive() and monster.is_alive():\n",
        "            self.battle(player, monster)\n",
        "            if player.is_alive():\n",
        "                wins += 1\n",
        "                print(f\"\\n{player.name} wins the round!\")\n",
        "                if wins == 2:\n",
        "                    self.choose_role(player)\n",
        "                    break\n",
        "        self.matches_played += 1\n",
        "        if player.is_alive():\n",
        "            self.player_wins += 1\n",
        "            print(f\"\\nCongratulations {player.name}! You won the match against the Monster!\")\n",
        "            print(f\"Total player wins: {self.player_wins}\")\n",
        "        else:\n",
        "            self.opponent_wins += 1\n",
        "            print(f\"\\n{monster.name} won the match!\")\n",
        "            print(f\"Total opponent wins: {self.opponent_wins}\")\n",
        "\n",
        "    def player_vs_player(self):\n",
        "        print(\"\\n Player vs Player Mode\")\n",
        "        player1_name = input(\"Enter Player 1 name: \")\n",
        "        player1 = Player(player1_name, input(f\"{player1_name}, choose your role (Swordsman, Archer, Magician): \"))\n",
        "\n",
        "        player2_name = input(\"Enter Player 2 name: \")\n",
        "        player2 = Player(player2_name, input(f\"{player2_name}, choose your role (Swordsman, Archer, Magician): \"))\n",
        "\n",
        "        while player1.is_alive() and player2.is_alive():\n",
        "            self.battle(player1, player2)\n",
        "\n",
        "        self.matches_played += 1\n",
        "        if player1.is_alive():\n",
        "            self.player_wins += 1\n",
        "            print(f\"\\n{player1.name} won the match!\")\n",
        "            print(f\"Total player wins: {self.player_wins}\")\n",
        "        else:\n",
        "            self.opponent_wins += 1\n",
        "            print(f\"\\n{player2.name} won the match!\")\n",
        "            print(f\"Total opponent wins: {self.opponent_wins}\")\n",
        "\n",
        "    def battle(self, player1, player2):\n",
        "        attacker = random.choice([player1, player2])\n",
        "        defender = player1 if attacker == player2 else player2\n",
        "        damage = random.randint(attacker.attack_power - 5, attacker.attack_power + 5)\n",
        "\n",
        "        print(f\"\\n{attacker.name} attacks {defender.name} for {damage} damage!\")\n",
        "        defender.take_damage(damage)\n",
        "        print(f\"{defender.name} has {defender.hp} HP left.\")\n",
        "\n",
        "    def choose_role(self, player):\n",
        "        if player.role == \"Novice\":\n",
        "            print(f\"\\n{player.name}, you won 2 times and can choose a new role!\")\n",
        "            print(\"Choose a new role:\")\n",
        "            print(\"1. Swordsman (High attack, medium defense)\")\n",
        "            print(\"2. Archer (Medium attack, medium defense)\")\n",
        "            print(\"3. Magician (Low attack, low defense but high special abilities)\")\n",
        "            print()\n",
        "            role_choice = input(\"Select 1, 2 or 3 to select your new role: \")\n",
        "            if role_choice == \"1\":\n",
        "                player.change_role(\"Swordsman\")\n",
        "            elif role_choice == \"2\":\n",
        "                player.change_role(\"Archer\")\n",
        "            elif role_choice == \"3\":\n",
        "                player.change_role(\"Magician\")\n",
        "            else:\n",
        "                print(\"Invalid choice, please select again.\")\n",
        "                self.choose_role(player)\n",
        "        else:\n",
        "            print(f\"You are already a {player.role}, no need to choose a new role!\")\n",
        "\n",
        "\n",
        "game = Game()\n",
        "game.select_mode()\n",
        "\n"
      ],
      "metadata": {
        "colab": {
          "base_uri": "https://localhost:8080/"
        },
        "id": "8n3948h-QBDt",
        "outputId": "ff80471a-9744-4c48-c535-f860bb3bb1a1"
      },
      "execution_count": 15,
      "outputs": [
        {
          "output_type": "stream",
          "name": "stdout",
          "text": [
            "Welcome to the Game\n",
            "Select game mode: \n",
            "1. Single Player\n",
            "2. Player vs Player\n",
            "Choose mode (1 or 2): 1\n",
            "\n",
            " Single Player Mode\n",
            "Enter your player name: Sebastian The Super Idol\n",
            "\n",
            "Monster attacks Sebastian The Super Idol for 16 damage!\n",
            "Sebastian The Super Idol has 89 HP left.\n",
            "\n",
            "Sebastian The Super Idol wins the round!\n",
            "\n",
            "Monster attacks Sebastian The Super Idol for 21 damage!\n",
            "Sebastian The Super Idol has 73 HP left.\n",
            "\n",
            "Sebastian The Super Idol wins the round!\n",
            "\n",
            "Sebastian The Super Idol, you won 2 times and can choose a new role!\n",
            "Choose a new role:\n",
            "1. Swordsman (High attack, medium defense)\n",
            "2. Archer (Medium attack, medium defense)\n",
            "3. Magician (Low attack, low defense but high special abilities)\n",
            "\n",
            "Select 1, 2 or 3 to select your new role: 1\n",
            "\n",
            "Congratulations Sebastian The Super Idol! You won the match against the Monster!\n",
            "Total player wins: 1\n"
          ]
        }
      ]
    },
    {
      "cell_type": "code",
      "source": [],
      "metadata": {
        "id": "cHdz2lKCZqqU"
      },
      "execution_count": null,
      "outputs": []
    }
  ]
}
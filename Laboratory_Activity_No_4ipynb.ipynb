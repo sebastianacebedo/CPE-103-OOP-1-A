{
  "nbformat": 4,
  "nbformat_minor": 0,
  "metadata": {
    "colab": {
      "provenance": [],
      "authorship_tag": "ABX9TyOOwA3ikem5LAQcdTQrOd0v",
      "include_colab_link": true
    },
    "kernelspec": {
      "name": "python3",
      "display_name": "Python 3"
    },
    "language_info": {
      "name": "python"
    }
  },
  "cells": [
    {
      "cell_type": "markdown",
      "metadata": {
        "id": "view-in-github",
        "colab_type": "text"
      },
      "source": [
        "<a href=\"https://colab.research.google.com/github/sebastianacebedo/CPE-103-OOP-1-A/blob/main/Laboratory_Activity_No_4ipynb.ipynb\" target=\"_parent\"><img src=\"https://colab.research.google.com/assets/colab-badge.svg\" alt=\"Open In Colab\"/></a>"
      ]
    },
    {
      "cell_type": "markdown",
      "source": [
        "#Lists\n",
        "Observation: <font color = '#317BDD'> The list has 5 elements, so I can only use indices from 0 to 4 or -1 to -5. If I try to use numberlist[5] or numberlist[-6], it gives an error because those positions don't exist."
      ],
      "metadata": {
        "id": "IgveUFssEaaa"
      }
    },
    {
      "cell_type": "code",
      "source": [
        "numberlist = [5,4,2,1,3]\n",
        "numberlist[0]\n",
        "print(numberlist[0])\n",
        "\n",
        "numberlist[1]\n",
        "print(numberlist[1])\n",
        "\n",
        "numberlist[2]\n",
        "print(numberlist[2])\n",
        "\n",
        "numberlist[3]\n",
        "print(numberlist[3])\n",
        "\n",
        "numberlist[4]\n",
        "print(numberlist[4])\n",
        "\n",
        "numberlist[-1]\n",
        "print(numberlist[-1])\n",
        "\n",
        "numberlist[-2]\n",
        "print(numberlist[-2])\n",
        "\n",
        "numberlist[-3]\n",
        "print(numberlist[-3])\n",
        "\n",
        "numberlist[-4]\n",
        "print(numberlist[-4])\n",
        "\n",
        "numberlist[-5]\n",
        "print(numberlist[-5])\n",
        "\n",
        "\n"
      ],
      "metadata": {
        "colab": {
          "base_uri": "https://localhost:8080/"
        },
        "id": "QQ7xLB5tEdM5",
        "outputId": "a6bcdf1e-74a6-459c-8742-fa58cb636775"
      },
      "execution_count": 32,
      "outputs": [
        {
          "output_type": "stream",
          "name": "stdout",
          "text": [
            "5\n",
            "4\n",
            "2\n",
            "1\n",
            "3\n",
            "3\n",
            "1\n",
            "2\n",
            "4\n",
            "5\n"
          ]
        }
      ]
    },
    {
      "cell_type": "markdown",
      "source": [
        "Observation: <font color = '#317BDD'> The len() function tells how many items are in a list or sublist. Negative indexing helps you access items starting from the end, like itemlist[-1] for the last item."
      ],
      "metadata": {
        "id": "5H2DmcJ3f1sL"
      }
    },
    {
      "cell_type": "code",
      "source": [
        "itemlist = [1,-2.0,[1,2,3],\"Word\"]\n",
        "len(itemlist)\n",
        "print(len(itemlist))\n",
        "\n",
        "itemlist [0]\n",
        "print(itemlist[0])\n",
        "\n",
        "itemlist [1]\n",
        "print (itemlist[1])\n",
        "\n",
        "itemlist [2]\n",
        "print(itemlist[2])\n",
        "\n",
        "itemlist [3]\n",
        "print(itemlist[3])\n",
        "\n",
        "len(itemlist[2])\n",
        "print(len(itemlist[2]))\n",
        "\n",
        "itemlist[2][0]\n",
        "print(itemlist[2][0])\n",
        "\n",
        "itemlist[2][1]\n",
        "print(itemlist[2][1])\n",
        "\n",
        "itemlist[2][2]\n",
        "print(itemlist[2][2])\n",
        "\n",
        "itemlist[-1]\n",
        "print(itemlist[-1])\n",
        "\n",
        "itemlist[-2]\n",
        "print(itemlist[-2])\n",
        "\n",
        "itemlist[-3]\n",
        "print(itemlist[-3])\n",
        "\n",
        "itemlist[-4]\n",
        "print(itemlist[-4])\n",
        "\n",
        "len(itemlist[-2])\n",
        "print(len(itemlist[-2]))\n",
        "\n",
        "itemlist[-2][0]\n",
        "print(itemlist[-2][0])\n",
        "\n",
        "itemlist[-2][1]\n",
        "print(itemlist[-2][1])\n",
        "\n",
        "itemlist[-2][2]\n",
        "print(itemlist[-2][2])\n",
        "\n",
        "itemlist[-2][-3]\n",
        "print(itemlist[-2][-3])\n",
        "\n",
        "itemlist[-2][-2]\n",
        "print(itemlist[-2][-2])\n",
        "\n",
        "itemlist[-2][-1]\n",
        "print(itemlist[-2][-1])\n"
      ],
      "metadata": {
        "colab": {
          "base_uri": "https://localhost:8080/"
        },
        "id": "lPWqkx0QHdba",
        "outputId": "111c7458-43cf-426e-b808-f22ed64c73f9"
      },
      "execution_count": null,
      "outputs": [
        {
          "output_type": "stream",
          "name": "stdout",
          "text": [
            "4\n",
            "1\n",
            "-2.0\n",
            "[1, 2, 3]\n",
            "Word\n",
            "3\n",
            "1\n",
            "2\n",
            "3\n",
            "Word\n",
            "[1, 2, 3]\n",
            "-2.0\n",
            "1\n",
            "3\n",
            "1\n",
            "2\n",
            "3\n",
            "1\n",
            "2\n",
            "3\n"
          ]
        }
      ]
    },
    {
      "cell_type": "markdown",
      "source": [
        "#Index Slicing\n",
        "observation: <font color = '#317BDD'> Index slicing use to part list by choosing where to start, stop, and how many items to skip. It can also use negative numbers to get items from the end of the list."
      ],
      "metadata": {
        "id": "H7Yod0b4JmO_"
      }
    },
    {
      "cell_type": "code",
      "source": [
        "longlist = numberlist + itemlist\n",
        "len(longlist)\n",
        "print (len(longlist))\n",
        "\n",
        "longlist [:]\n",
        "print (longlist[:])\n",
        "\n",
        "longlist[:9]\n",
        "print(longlist[:9])\n",
        "\n",
        "longlist[0:]\n",
        "print(longlist[0:])\n",
        "\n",
        "longlist[1:]\n",
        "print(longlist[1:])\n",
        "\n",
        "\n",
        "#index Slicing with Range\n",
        "\n",
        "longlist[2:5]\n",
        "print(longlist[2:5])\n",
        "\n",
        "longlist[5:2]\n",
        "print(longlist[5:2])\n",
        "\n",
        "longlist[8:]\n",
        "print(longlist[8:])\n",
        "\n",
        "longlist[9:]\n",
        "print(longlist[9:])\n",
        "\n",
        "#Index Slicing using Negative Indices\n",
        "longlist[-9:]\n",
        "print(longlist[-9])\n",
        "\n",
        "longlist[-8:]\n",
        "print(longlist[-8:])\n",
        "\n",
        "longlist[-8:-7]\n",
        "print(longlist[-8:-7])\n",
        "\n",
        "longlist[-1:]\n",
        "print(longlist[-1:])\n",
        "\n",
        "#Other Properties of Index Slicing\n",
        "\n",
        "longlist[10:20]\n",
        "print(longlist[10:20])\n",
        "\n",
        "longlist[-7:5]\n",
        "print(longlist[-7:5])\n",
        "\n",
        "#Index Slicing with Step Parameters\n",
        "longlist[::1]\n",
        "print(longlist[::1])\n",
        "\n",
        "longlist[::2]\n",
        "print(longlist[::2])\n",
        "\n",
        "longlist[1:8:2]\n",
        "print(longlist[1:8:2])\n",
        "\n",
        "longlist[9:1:-1]\n",
        "print(longlist[9:1:-1])\n",
        "\n",
        "longlist[-1::1]\n",
        "print(longlist[-1::1])\n",
        "\n",
        "longlist[-1::-1]\n",
        "print(longlist[-1::-1])\n",
        "\n",
        "\n"
      ],
      "metadata": {
        "colab": {
          "base_uri": "https://localhost:8080/"
        },
        "id": "ZSo_csqPJpCY",
        "outputId": "b9d816f8-93f2-4788-f23a-3e2bf6d126af"
      },
      "execution_count": null,
      "outputs": [
        {
          "output_type": "stream",
          "name": "stdout",
          "text": [
            "9\n",
            "[5, 4, 2, 1, 3, 1, -2.0, [1, 2, 3], 'Word']\n",
            "[5, 4, 2, 1, 3, 1, -2.0, [1, 2, 3], 'Word']\n",
            "[5, 4, 2, 1, 3, 1, -2.0, [1, 2, 3], 'Word']\n",
            "[4, 2, 1, 3, 1, -2.0, [1, 2, 3], 'Word']\n",
            "[2, 1, 3]\n",
            "[]\n",
            "['Word']\n",
            "[]\n",
            "5\n",
            "[4, 2, 1, 3, 1, -2.0, [1, 2, 3], 'Word']\n",
            "[4]\n",
            "['Word']\n",
            "[]\n",
            "[2, 1, 3]\n",
            "[5, 4, 2, 1, 3, 1, -2.0, [1, 2, 3], 'Word']\n",
            "[5, 2, 3, -2.0, 'Word']\n",
            "[4, 1, 1, [1, 2, 3]]\n",
            "['Word', [1, 2, 3], -2.0, 1, 3, 1, 2]\n",
            "['Word']\n",
            "['Word', [1, 2, 3], -2.0, 1, 3, 1, 2, 4, 5]\n"
          ]
        }
      ]
    },
    {
      "cell_type": "code",
      "execution_count": null,
      "metadata": {
        "id": "MCMHWGL4EP6s"
      },
      "outputs": [],
      "source": []
    },
    {
      "cell_type": "markdown",
      "source": [
        "#List Methods and the Mutable Property of Lists\n",
        "Observation: <font color = '#317BDD'> When numberlist2 is assigned to numberlist, both variables point to the same list, so changes to one affect the other. Using numberlist.copy() creates a separate copy, so changes to numberlist don't affect numberlist2."
      ],
      "metadata": {
        "id": "0JZT8QbvNrdy"
      }
    },
    {
      "cell_type": "code",
      "source": [
        "numberlist2 = numberlist\n",
        "print(numberlist)\n",
        "print(numberlist2)\n",
        "\n",
        "numberlist[0] = 6\n",
        "print(numberlist)\n",
        "print(numberlist2)"
      ],
      "metadata": {
        "colab": {
          "base_uri": "https://localhost:8080/"
        },
        "id": "56uTGzVNN0RY",
        "outputId": "15f05a82-20d4-49f2-cf6a-cda0c1b807d2"
      },
      "execution_count": null,
      "outputs": [
        {
          "output_type": "stream",
          "name": "stdout",
          "text": [
            "[5, 4, 2, 1, 3]\n",
            "[5, 4, 2, 1, 3]\n",
            "[6, 4, 2, 1, 3]\n",
            "[6, 4, 2, 1, 3]\n"
          ]
        }
      ]
    },
    {
      "cell_type": "code",
      "source": [
        "numberlist.copy()\n",
        "print(numberlist2)\n",
        "\n",
        "numberlist[0] = 5\n",
        "print(numberlist)\n",
        "print(numberlist2)\n"
      ],
      "metadata": {
        "colab": {
          "base_uri": "https://localhost:8080/"
        },
        "id": "9YF4suUeOZkB",
        "outputId": "c11cf53b-4ad1-4091-d53c-8f1bd3ff5168"
      },
      "execution_count": null,
      "outputs": [
        {
          "output_type": "stream",
          "name": "stdout",
          "text": [
            "[6, 4, 2, 1, 3]\n",
            "[5, 4, 2, 1, 3]\n",
            "[5, 4, 2, 1, 3]\n"
          ]
        }
      ]
    },
    {
      "cell_type": "markdown",
      "source": [
        "#Exploring some List Functions and Methods"
      ],
      "metadata": {
        "id": "XGrZG6FUO3wy"
      }
    },
    {
      "cell_type": "code",
      "source": [
        "print(numberlist)\n",
        "numberlist.append(6)\n",
        "\n",
        "print(numberlist)\n",
        "numberlist.pop\n",
        "\n",
        "print(numberlist)\n",
        "numberlist.sort()\n",
        "\n",
        "print(numberlist)\n",
        "itemlist.sort()\n",
        "\n",
        "print(min(numberlist), max(numberlist))\n",
        "print(longlist)\n",
        "print(longlist.count(1))\n",
        "print(longlist[7].count(1))"
      ],
      "metadata": {
        "colab": {
          "base_uri": "https://localhost:8080/"
        },
        "id": "AnDo98kkO6rZ",
        "outputId": "cb99f731-a7a7-432c-831a-cdbb400937a4"
      },
      "execution_count": null,
      "outputs": [
        {
          "output_type": "stream",
          "name": "stdout",
          "text": [
            "[1, 2, 3, 4, 5, 6, 6, 6, 6]\n",
            "[1, 2, 3, 4, 5, 6, 6, 6, 6, 6]\n",
            "[1, 2, 3, 4, 5, 6, 6, 6, 6, 6]\n",
            "[1, 2, 3, 4, 5, 6, 6, 6, 6, 6]\n",
            "1 6\n",
            "[5, 4, 2, 1, 3, 1, -2.0, [1, 2, 3], 'Word']\n",
            "2\n",
            "1\n"
          ]
        }
      ]
    },
    {
      "cell_type": "markdown",
      "source": [
        "#The in Operator\n",
        "Observation: <font color = '#317BDD'> The in operator checks if a value is present in a list or other collection, returning True if it's found and False if it's not. It's useful for checking membership and making decisions based on whether something is in a list."
      ],
      "metadata": {
        "id": "rAdDTqOGQyFR"
      }
    },
    {
      "cell_type": "code",
      "source": [
        "print(3 in longlist)\n",
        "print(15 in longlist)\n",
        "\n",
        "num = int(input(\"Enter a Number: \"))\n",
        "if num in longlist:\n",
        "  print(\"The number is in longlist\")\n",
        "else:\n",
        "  print(\"The number is not in longlist\")"
      ],
      "metadata": {
        "colab": {
          "base_uri": "https://localhost:8080/"
        },
        "id": "ZiUdmCacQ2uI",
        "outputId": "1adf6155-b044-454e-82fc-d8b552856516"
      },
      "execution_count": null,
      "outputs": [
        {
          "output_type": "stream",
          "name": "stdout",
          "text": [
            "True\n",
            "False\n",
            "Enter a Number: 4\n",
            "The number is in longlist\n"
          ]
        }
      ]
    },
    {
      "cell_type": "markdown",
      "source": [
        "#Using a list in an iterartive statement"
      ],
      "metadata": {
        "id": "KZbUlds8R7Ax"
      }
    },
    {
      "cell_type": "code",
      "source": [
        "for item in longlist:\n",
        "  print(item)\n",
        "\n",
        "i=0\n",
        "while i<len(longlist):\n",
        "  print(longlist[i])\n",
        "  i+=1"
      ],
      "metadata": {
        "colab": {
          "base_uri": "https://localhost:8080/"
        },
        "id": "EazOlmWISCOK",
        "outputId": "fd61e366-80a8-4a86-eca0-1d5d1cea3668"
      },
      "execution_count": null,
      "outputs": [
        {
          "output_type": "stream",
          "name": "stdout",
          "text": [
            "5\n",
            "4\n",
            "2\n",
            "1\n",
            "3\n",
            "1\n",
            "-2.0\n",
            "[1, 2, 3]\n",
            "Word\n",
            "5\n",
            "4\n",
            "2\n",
            "1\n",
            "3\n",
            "1\n",
            "-2.0\n",
            "[1, 2, 3]\n",
            "Word\n"
          ]
        }
      ]
    },
    {
      "cell_type": "markdown",
      "source": [
        "#Strings"
      ],
      "metadata": {
        "id": "CcwRO2NVSgng"
      }
    },
    {
      "cell_type": "code",
      "source": [
        "message = (\"Hello World\")\n",
        "print(message)\n",
        "print(len(message))\n",
        "\n",
        "print(message[0])\n",
        "print(message[1])\n",
        "print(message[2])\n",
        "print(message[3])\n",
        "print(message[4])\n",
        "\n",
        "print(message[0] + message[1] + message[2] + message[3] + message[4])\n",
        "\n",
        "print(message[0:5])\n",
        "print(message[0:5])\n",
        "print(message[6:11])"
      ],
      "metadata": {
        "colab": {
          "base_uri": "https://localhost:8080/"
        },
        "id": "8tAt9230SqXR",
        "outputId": "e248f7e1-2ffc-4b98-c5db-15788059bd0e"
      },
      "execution_count": null,
      "outputs": [
        {
          "output_type": "stream",
          "name": "stdout",
          "text": [
            "Hello World\n",
            "11\n",
            "H\n",
            "e\n",
            "l\n",
            "l\n",
            "o\n",
            "Hello\n",
            "Hello\n",
            "Hello\n",
            "World\n"
          ]
        }
      ]
    },
    {
      "cell_type": "markdown",
      "source": [
        "#Strings Methods"
      ],
      "metadata": {
        "id": "t2VXF3j9WYyh"
      }
    },
    {
      "cell_type": "code",
      "source": [
        "print(message.upper())\n",
        "print(message.lower())\n",
        "print(message.title())\n",
        "\n",
        "print(\"Value 1 is {},and value 2 is {}\".format(-1,True))\n",
        "print(message.split(' '))\n",
        "print(message.count('l'))\n",
        "print(message.replace('World','CPE009'))\n",
        "message.replace('World','CPE009')\n",
        "help(\" \")"
      ],
      "metadata": {
        "colab": {
          "base_uri": "https://localhost:8080/"
        },
        "id": "XSbOWHWfWeDR",
        "outputId": "9840e4d3-0c1c-4784-bc7b-76a4a95b86a8"
      },
      "execution_count": null,
      "outputs": [
        {
          "output_type": "stream",
          "name": "stdout",
          "text": [
            "HELLO WORLD\n",
            "hello world\n",
            "Hello World\n",
            "Value 1 is -1,and value 2 is True\n",
            "['Hello', 'World']\n",
            "3\n",
            "Hello CPE009\n",
            "Help on class str in module builtins:\n",
            "\n",
            "class str(object)\n",
            " |  str(object='') -> str\n",
            " |  str(bytes_or_buffer[, encoding[, errors]]) -> str\n",
            " |  \n",
            " |  Create a new string object from the given object. If encoding or\n",
            " |  errors is specified, then the object must expose a data buffer\n",
            " |  that will be decoded using the given encoding and error handler.\n",
            " |  Otherwise, returns the result of object.__str__() (if defined)\n",
            " |  or repr(object).\n",
            " |  encoding defaults to sys.getdefaultencoding().\n",
            " |  errors defaults to 'strict'.\n",
            " |  \n",
            " |  Methods defined here:\n",
            " |  \n",
            " |  __add__(self, value, /)\n",
            " |      Return self+value.\n",
            " |  \n",
            " |  __contains__(self, key, /)\n",
            " |      Return key in self.\n",
            " |  \n",
            " |  __eq__(self, value, /)\n",
            " |      Return self==value.\n",
            " |  \n",
            " |  __format__(self, format_spec, /)\n",
            " |      Return a formatted version of the string as described by format_spec.\n",
            " |  \n",
            " |  __ge__(self, value, /)\n",
            " |      Return self>=value.\n",
            " |  \n",
            " |  __getattribute__(self, name, /)\n",
            " |      Return getattr(self, name).\n",
            " |  \n",
            " |  __getitem__(self, key, /)\n",
            " |      Return self[key].\n",
            " |  \n",
            " |  __getnewargs__(...)\n",
            " |  \n",
            " |  __gt__(self, value, /)\n",
            " |      Return self>value.\n",
            " |  \n",
            " |  __hash__(self, /)\n",
            " |      Return hash(self).\n",
            " |  \n",
            " |  __iter__(self, /)\n",
            " |      Implement iter(self).\n",
            " |  \n",
            " |  __le__(self, value, /)\n",
            " |      Return self<=value.\n",
            " |  \n",
            " |  __len__(self, /)\n",
            " |      Return len(self).\n",
            " |  \n",
            " |  __lt__(self, value, /)\n",
            " |      Return self<value.\n",
            " |  \n",
            " |  __mod__(self, value, /)\n",
            " |      Return self%value.\n",
            " |  \n",
            " |  __mul__(self, value, /)\n",
            " |      Return self*value.\n",
            " |  \n",
            " |  __ne__(self, value, /)\n",
            " |      Return self!=value.\n",
            " |  \n",
            " |  __repr__(self, /)\n",
            " |      Return repr(self).\n",
            " |  \n",
            " |  __rmod__(self, value, /)\n",
            " |      Return value%self.\n",
            " |  \n",
            " |  __rmul__(self, value, /)\n",
            " |      Return value*self.\n",
            " |  \n",
            " |  __sizeof__(self, /)\n",
            " |      Return the size of the string in memory, in bytes.\n",
            " |  \n",
            " |  __str__(self, /)\n",
            " |      Return str(self).\n",
            " |  \n",
            " |  capitalize(self, /)\n",
            " |      Return a capitalized version of the string.\n",
            " |      \n",
            " |      More specifically, make the first character have upper case and the rest lower\n",
            " |      case.\n",
            " |  \n",
            " |  casefold(self, /)\n",
            " |      Return a version of the string suitable for caseless comparisons.\n",
            " |  \n",
            " |  center(self, width, fillchar=' ', /)\n",
            " |      Return a centered string of length width.\n",
            " |      \n",
            " |      Padding is done using the specified fill character (default is a space).\n",
            " |  \n",
            " |  count(...)\n",
            " |      S.count(sub[, start[, end]]) -> int\n",
            " |      \n",
            " |      Return the number of non-overlapping occurrences of substring sub in\n",
            " |      string S[start:end].  Optional arguments start and end are\n",
            " |      interpreted as in slice notation.\n",
            " |  \n",
            " |  encode(self, /, encoding='utf-8', errors='strict')\n",
            " |      Encode the string using the codec registered for encoding.\n",
            " |      \n",
            " |      encoding\n",
            " |        The encoding in which to encode the string.\n",
            " |      errors\n",
            " |        The error handling scheme to use for encoding errors.\n",
            " |        The default is 'strict' meaning that encoding errors raise a\n",
            " |        UnicodeEncodeError.  Other possible values are 'ignore', 'replace' and\n",
            " |        'xmlcharrefreplace' as well as any other name registered with\n",
            " |        codecs.register_error that can handle UnicodeEncodeErrors.\n",
            " |  \n",
            " |  endswith(...)\n",
            " |      S.endswith(suffix[, start[, end]]) -> bool\n",
            " |      \n",
            " |      Return True if S ends with the specified suffix, False otherwise.\n",
            " |      With optional start, test S beginning at that position.\n",
            " |      With optional end, stop comparing S at that position.\n",
            " |      suffix can also be a tuple of strings to try.\n",
            " |  \n",
            " |  expandtabs(self, /, tabsize=8)\n",
            " |      Return a copy where all tab characters are expanded using spaces.\n",
            " |      \n",
            " |      If tabsize is not given, a tab size of 8 characters is assumed.\n",
            " |  \n",
            " |  find(...)\n",
            " |      S.find(sub[, start[, end]]) -> int\n",
            " |      \n",
            " |      Return the lowest index in S where substring sub is found,\n",
            " |      such that sub is contained within S[start:end].  Optional\n",
            " |      arguments start and end are interpreted as in slice notation.\n",
            " |      \n",
            " |      Return -1 on failure.\n",
            " |  \n",
            " |  format(...)\n",
            " |      S.format(*args, **kwargs) -> str\n",
            " |      \n",
            " |      Return a formatted version of S, using substitutions from args and kwargs.\n",
            " |      The substitutions are identified by braces ('{' and '}').\n",
            " |  \n",
            " |  format_map(...)\n",
            " |      S.format_map(mapping) -> str\n",
            " |      \n",
            " |      Return a formatted version of S, using substitutions from mapping.\n",
            " |      The substitutions are identified by braces ('{' and '}').\n",
            " |  \n",
            " |  index(...)\n",
            " |      S.index(sub[, start[, end]]) -> int\n",
            " |      \n",
            " |      Return the lowest index in S where substring sub is found,\n",
            " |      such that sub is contained within S[start:end].  Optional\n",
            " |      arguments start and end are interpreted as in slice notation.\n",
            " |      \n",
            " |      Raises ValueError when the substring is not found.\n",
            " |  \n",
            " |  isalnum(self, /)\n",
            " |      Return True if the string is an alpha-numeric string, False otherwise.\n",
            " |      \n",
            " |      A string is alpha-numeric if all characters in the string are alpha-numeric and\n",
            " |      there is at least one character in the string.\n",
            " |  \n",
            " |  isalpha(self, /)\n",
            " |      Return True if the string is an alphabetic string, False otherwise.\n",
            " |      \n",
            " |      A string is alphabetic if all characters in the string are alphabetic and there\n",
            " |      is at least one character in the string.\n",
            " |  \n",
            " |  isascii(self, /)\n",
            " |      Return True if all characters in the string are ASCII, False otherwise.\n",
            " |      \n",
            " |      ASCII characters have code points in the range U+0000-U+007F.\n",
            " |      Empty string is ASCII too.\n",
            " |  \n",
            " |  isdecimal(self, /)\n",
            " |      Return True if the string is a decimal string, False otherwise.\n",
            " |      \n",
            " |      A string is a decimal string if all characters in the string are decimal and\n",
            " |      there is at least one character in the string.\n",
            " |  \n",
            " |  isdigit(self, /)\n",
            " |      Return True if the string is a digit string, False otherwise.\n",
            " |      \n",
            " |      A string is a digit string if all characters in the string are digits and there\n",
            " |      is at least one character in the string.\n",
            " |  \n",
            " |  isidentifier(self, /)\n",
            " |      Return True if the string is a valid Python identifier, False otherwise.\n",
            " |      \n",
            " |      Call keyword.iskeyword(s) to test whether string s is a reserved identifier,\n",
            " |      such as \"def\" or \"class\".\n",
            " |  \n",
            " |  islower(self, /)\n",
            " |      Return True if the string is a lowercase string, False otherwise.\n",
            " |      \n",
            " |      A string is lowercase if all cased characters in the string are lowercase and\n",
            " |      there is at least one cased character in the string.\n",
            " |  \n",
            " |  isnumeric(self, /)\n",
            " |      Return True if the string is a numeric string, False otherwise.\n",
            " |      \n",
            " |      A string is numeric if all characters in the string are numeric and there is at\n",
            " |      least one character in the string.\n",
            " |  \n",
            " |  isprintable(self, /)\n",
            " |      Return True if the string is printable, False otherwise.\n",
            " |      \n",
            " |      A string is printable if all of its characters are considered printable in\n",
            " |      repr() or if it is empty.\n",
            " |  \n",
            " |  isspace(self, /)\n",
            " |      Return True if the string is a whitespace string, False otherwise.\n",
            " |      \n",
            " |      A string is whitespace if all characters in the string are whitespace and there\n",
            " |      is at least one character in the string.\n",
            " |  \n",
            " |  istitle(self, /)\n",
            " |      Return True if the string is a title-cased string, False otherwise.\n",
            " |      \n",
            " |      In a title-cased string, upper- and title-case characters may only\n",
            " |      follow uncased characters and lowercase characters only cased ones.\n",
            " |  \n",
            " |  isupper(self, /)\n",
            " |      Return True if the string is an uppercase string, False otherwise.\n",
            " |      \n",
            " |      A string is uppercase if all cased characters in the string are uppercase and\n",
            " |      there is at least one cased character in the string.\n",
            " |  \n",
            " |  join(self, iterable, /)\n",
            " |      Concatenate any number of strings.\n",
            " |      \n",
            " |      The string whose method is called is inserted in between each given string.\n",
            " |      The result is returned as a new string.\n",
            " |      \n",
            " |      Example: '.'.join(['ab', 'pq', 'rs']) -> 'ab.pq.rs'\n",
            " |  \n",
            " |  ljust(self, width, fillchar=' ', /)\n",
            " |      Return a left-justified string of length width.\n",
            " |      \n",
            " |      Padding is done using the specified fill character (default is a space).\n",
            " |  \n",
            " |  lower(self, /)\n",
            " |      Return a copy of the string converted to lowercase.\n",
            " |  \n",
            " |  lstrip(self, chars=None, /)\n",
            " |      Return a copy of the string with leading whitespace removed.\n",
            " |      \n",
            " |      If chars is given and not None, remove characters in chars instead.\n",
            " |  \n",
            " |  partition(self, sep, /)\n",
            " |      Partition the string into three parts using the given separator.\n",
            " |      \n",
            " |      This will search for the separator in the string.  If the separator is found,\n",
            " |      returns a 3-tuple containing the part before the separator, the separator\n",
            " |      itself, and the part after it.\n",
            " |      \n",
            " |      If the separator is not found, returns a 3-tuple containing the original string\n",
            " |      and two empty strings.\n",
            " |  \n",
            " |  removeprefix(self, prefix, /)\n",
            " |      Return a str with the given prefix string removed if present.\n",
            " |      \n",
            " |      If the string starts with the prefix string, return string[len(prefix):].\n",
            " |      Otherwise, return a copy of the original string.\n",
            " |  \n",
            " |  removesuffix(self, suffix, /)\n",
            " |      Return a str with the given suffix string removed if present.\n",
            " |      \n",
            " |      If the string ends with the suffix string and that suffix is not empty,\n",
            " |      return string[:-len(suffix)]. Otherwise, return a copy of the original\n",
            " |      string.\n",
            " |  \n",
            " |  replace(self, old, new, count=-1, /)\n",
            " |      Return a copy with all occurrences of substring old replaced by new.\n",
            " |      \n",
            " |        count\n",
            " |          Maximum number of occurrences to replace.\n",
            " |          -1 (the default value) means replace all occurrences.\n",
            " |      \n",
            " |      If the optional argument count is given, only the first count occurrences are\n",
            " |      replaced.\n",
            " |  \n",
            " |  rfind(...)\n",
            " |      S.rfind(sub[, start[, end]]) -> int\n",
            " |      \n",
            " |      Return the highest index in S where substring sub is found,\n",
            " |      such that sub is contained within S[start:end].  Optional\n",
            " |      arguments start and end are interpreted as in slice notation.\n",
            " |      \n",
            " |      Return -1 on failure.\n",
            " |  \n",
            " |  rindex(...)\n",
            " |      S.rindex(sub[, start[, end]]) -> int\n",
            " |      \n",
            " |      Return the highest index in S where substring sub is found,\n",
            " |      such that sub is contained within S[start:end].  Optional\n",
            " |      arguments start and end are interpreted as in slice notation.\n",
            " |      \n",
            " |      Raises ValueError when the substring is not found.\n",
            " |  \n",
            " |  rjust(self, width, fillchar=' ', /)\n",
            " |      Return a right-justified string of length width.\n",
            " |      \n",
            " |      Padding is done using the specified fill character (default is a space).\n",
            " |  \n",
            " |  rpartition(self, sep, /)\n",
            " |      Partition the string into three parts using the given separator.\n",
            " |      \n",
            " |      This will search for the separator in the string, starting at the end. If\n",
            " |      the separator is found, returns a 3-tuple containing the part before the\n",
            " |      separator, the separator itself, and the part after it.\n",
            " |      \n",
            " |      If the separator is not found, returns a 3-tuple containing two empty strings\n",
            " |      and the original string.\n",
            " |  \n",
            " |  rsplit(self, /, sep=None, maxsplit=-1)\n",
            " |      Return a list of the substrings in the string, using sep as the separator string.\n",
            " |      \n",
            " |        sep\n",
            " |          The separator used to split the string.\n",
            " |      \n",
            " |          When set to None (the default value), will split on any whitespace\n",
            " |          character (including \\n \\r \\t \\f and spaces) and will discard\n",
            " |          empty strings from the result.\n",
            " |        maxsplit\n",
            " |          Maximum number of splits.\n",
            " |          -1 (the default value) means no limit.\n",
            " |      \n",
            " |      Splitting starts at the end of the string and works to the front.\n",
            " |  \n",
            " |  rstrip(self, chars=None, /)\n",
            " |      Return a copy of the string with trailing whitespace removed.\n",
            " |      \n",
            " |      If chars is given and not None, remove characters in chars instead.\n",
            " |  \n",
            " |  split(self, /, sep=None, maxsplit=-1)\n",
            " |      Return a list of the substrings in the string, using sep as the separator string.\n",
            " |      \n",
            " |        sep\n",
            " |          The separator used to split the string.\n",
            " |      \n",
            " |          When set to None (the default value), will split on any whitespace\n",
            " |          character (including \\n \\r \\t \\f and spaces) and will discard\n",
            " |          empty strings from the result.\n",
            " |        maxsplit\n",
            " |          Maximum number of splits.\n",
            " |          -1 (the default value) means no limit.\n",
            " |      \n",
            " |      Splitting starts at the front of the string and works to the end.\n",
            " |      \n",
            " |      Note, str.split() is mainly useful for data that has been intentionally\n",
            " |      delimited.  With natural text that includes punctuation, consider using\n",
            " |      the regular expression module.\n",
            " |  \n",
            " |  splitlines(self, /, keepends=False)\n",
            " |      Return a list of the lines in the string, breaking at line boundaries.\n",
            " |      \n",
            " |      Line breaks are not included in the resulting list unless keepends is given and\n",
            " |      true.\n",
            " |  \n",
            " |  startswith(...)\n",
            " |      S.startswith(prefix[, start[, end]]) -> bool\n",
            " |      \n",
            " |      Return True if S starts with the specified prefix, False otherwise.\n",
            " |      With optional start, test S beginning at that position.\n",
            " |      With optional end, stop comparing S at that position.\n",
            " |      prefix can also be a tuple of strings to try.\n",
            " |  \n",
            " |  strip(self, chars=None, /)\n",
            " |      Return a copy of the string with leading and trailing whitespace removed.\n",
            " |      \n",
            " |      If chars is given and not None, remove characters in chars instead.\n",
            " |  \n",
            " |  swapcase(self, /)\n",
            " |      Convert uppercase characters to lowercase and lowercase characters to uppercase.\n",
            " |  \n",
            " |  title(self, /)\n",
            " |      Return a version of the string where each word is titlecased.\n",
            " |      \n",
            " |      More specifically, words start with uppercased characters and all remaining\n",
            " |      cased characters have lower case.\n",
            " |  \n",
            " |  translate(self, table, /)\n",
            " |      Replace each character in the string using the given translation table.\n",
            " |      \n",
            " |        table\n",
            " |          Translation table, which must be a mapping of Unicode ordinals to\n",
            " |          Unicode ordinals, strings, or None.\n",
            " |      \n",
            " |      The table must implement lookup/indexing via __getitem__, for instance a\n",
            " |      dictionary or list.  If this operation raises LookupError, the character is\n",
            " |      left untouched.  Characters mapped to None are deleted.\n",
            " |  \n",
            " |  upper(self, /)\n",
            " |      Return a copy of the string converted to uppercase.\n",
            " |  \n",
            " |  zfill(self, width, /)\n",
            " |      Pad a numeric string with zeros on the left, to fill a field of the given width.\n",
            " |      \n",
            " |      The string is never truncated.\n",
            " |  \n",
            " |  ----------------------------------------------------------------------\n",
            " |  Static methods defined here:\n",
            " |  \n",
            " |  __new__(*args, **kwargs)\n",
            " |      Create and return a new object.  See help(type) for accurate signature.\n",
            " |  \n",
            " |  maketrans(...)\n",
            " |      Return a translation table usable for str.translate().\n",
            " |      \n",
            " |      If there is only one argument, it must be a dictionary mapping Unicode\n",
            " |      ordinals (integers) or characters to Unicode ordinals, strings or None.\n",
            " |      Character keys will be then converted to ordinals.\n",
            " |      If there are two arguments, they must be strings of equal length, and\n",
            " |      in the resulting dictionary, each character in x will be mapped to the\n",
            " |      character at the same position in y. If there is a third argument, it\n",
            " |      must be a string, whose characters will be mapped to None in the result.\n",
            "\n"
          ]
        }
      ]
    },
    {
      "cell_type": "markdown",
      "source": [
        "#The in operator for the Strings"
      ],
      "metadata": {
        "id": "UEO7r7O_YtJp"
      }
    },
    {
      "cell_type": "code",
      "source": [
        "print('W'in message)\n",
        "print('old'in message)\n",
        "word = input(\"Enter a word:\")\n",
        "if word in \"The big brown fox jump over the lazy dog\":\n",
        "  print(\"The word is in the text\")\n",
        "else:\n",
        "  print(\"The word is not in the text\")\n",
        "\n"
      ],
      "metadata": {
        "colab": {
          "base_uri": "https://localhost:8080/"
        },
        "id": "ltLgWiPmY1sJ",
        "outputId": "65b4d4f4-86a3-419d-ce10-5088112009e1"
      },
      "execution_count": null,
      "outputs": [
        {
          "output_type": "stream",
          "name": "stdout",
          "text": [
            "True\n",
            "False\n",
            "Enter a word:baste\n",
            "The word is not in the text\n"
          ]
        }
      ]
    },
    {
      "cell_type": "markdown",
      "source": [
        "#Using a String in an iterative statement\n"
      ],
      "metadata": {
        "id": "gmldN7djZh0S"
      }
    },
    {
      "cell_type": "code",
      "source": [
        "for character in message:\n",
        "  print(character)\n",
        "i = 0\n",
        "\n",
        "while i<len(message):\n",
        "  print(message[i])\n",
        "  i += 1"
      ],
      "metadata": {
        "colab": {
          "base_uri": "https://localhost:8080/"
        },
        "id": "WFM1hOjoZnYi",
        "outputId": "3a1e8f36-7bbf-43b7-ee63-ccd57eeb623f"
      },
      "execution_count": null,
      "outputs": [
        {
          "output_type": "stream",
          "name": "stdout",
          "text": [
            "H\n",
            "e\n",
            "l\n",
            "l\n",
            "o\n",
            " \n",
            "W\n",
            "o\n",
            "r\n",
            "l\n",
            "d\n",
            "H\n",
            "e\n",
            "l\n",
            "l\n",
            "o\n",
            " \n",
            "W\n",
            "o\n",
            "r\n",
            "l\n",
            "d\n"
          ]
        }
      ]
    },
    {
      "cell_type": "markdown",
      "source": [
        "#Tuples"
      ],
      "metadata": {
        "id": "wly303zdaReZ"
      }
    },
    {
      "cell_type": "code",
      "source": [
        "tuplelist = (1, 2, 3, 4, 5)\n",
        "\n",
        "\n",
        "print(tuplelist[0])\n",
        "print(tuplelist[1])\n",
        "print(tuplelist[2])\n",
        "print(tuplelist[3])\n",
        "print(tuplelist[4])\n",
        "\n",
        "print(tuplelist + (1, 2, 3))\n",
        "\n",
        "print(tuplelist[1:4])\n",
        "for number in tuplelist:\n",
        "    print(number)"
      ],
      "metadata": {
        "colab": {
          "base_uri": "https://localhost:8080/"
        },
        "id": "FLbjxZFKaTu5",
        "outputId": "2ccdc624-2a0f-4793-d388-8ad503535985"
      },
      "execution_count": 15,
      "outputs": [
        {
          "output_type": "stream",
          "name": "stdout",
          "text": [
            "1\n",
            "2\n",
            "3\n",
            "4\n",
            "5\n",
            "(1, 2, 3, 4, 5, 1, 2, 3)\n",
            "(2, 3, 4)\n",
            "1\n",
            "2\n",
            "3\n",
            "4\n",
            "5\n"
          ]
        }
      ]
    },
    {
      "cell_type": "markdown",
      "source": [
        "#Dictionaries"
      ],
      "metadata": {
        "id": "RJJAjfs_jguS"
      }
    },
    {
      "cell_type": "code",
      "source": [
        "contactinfo = {'id': 1, 'first_name': 'John', 'last_name': 'Doe', 'contact_number': '09060611233'}\n",
        "\n",
        "print(contactinfo['id'])\n",
        "print(contactinfo['first_name'])\n",
        "print(contactinfo['last_name'])\n",
        "print(contactinfo['contact_number'])\n",
        "\n",
        "for k in contactinfo:\n",
        "    print(k)\n",
        "\n",
        "for k, v in contactinfo.items():\n",
        "    print(k, v)\n",
        "\n",
        "contactinfo['id'] = 2\n",
        "contactinfo['first_name'] = 'Max'\n",
        "\n",
        "print(contactinfo)"
      ],
      "metadata": {
        "colab": {
          "base_uri": "https://localhost:8080/"
        },
        "id": "7Id8vByfjjVd",
        "outputId": "05a49491-81ca-438e-ab49-1027ff31ab83"
      },
      "execution_count": 16,
      "outputs": [
        {
          "output_type": "stream",
          "name": "stdout",
          "text": [
            "1\n",
            "John\n",
            "Doe\n",
            "09060611233\n",
            "id\n",
            "first_name\n",
            "last_name\n",
            "contact_number\n",
            "id 1\n",
            "first_name John\n",
            "last_name Doe\n",
            "contact_number 09060611233\n",
            "{'id': 2, 'first_name': 'Max', 'last_name': 'Doe', 'contact_number': '09060611233'}\n"
          ]
        }
      ]
    },
    {
      "cell_type": "markdown",
      "source": [
        "#**Supplementary** **Activity**"
      ],
      "metadata": {
        "id": "2Z4HSHJ2kAkH"
      }
    },
    {
      "cell_type": "markdown",
      "source": [
        "1. Distance Formula\n",
        "- Make a program that would calculate the distance between two points given a list of coordinates. Use the distance formula.\n"
      ],
      "metadata": {
        "id": "Eg84g7Kak5z4"
      }
    },
    {
      "cell_type": "code",
      "source": [
        "def calculate_distance(coordinates):\n",
        "    x1, y1 = coordinates[0]\n",
        "    x2, y2 = coordinates[1]\n",
        "    distance = ((x2 - x1) ** 2 + (y2 - y1) ** 2) ** 0.5\n",
        "    return (distance)\n",
        "\n",
        "coordinates_list = [(1, 1), (2, 3)]\n",
        "\n",
        "distance = calculate_distance(coordinates_list)\n",
        "print(f\"The distance between the points is: {distance}\")"
      ],
      "metadata": {
        "colab": {
          "base_uri": "https://localhost:8080/"
        },
        "id": "A1TallNQkPVv",
        "outputId": "00ced878-80cc-44ab-d88b-d5e361cf3239"
      },
      "execution_count": 19,
      "outputs": [
        {
          "output_type": "stream",
          "name": "stdout",
          "text": [
            "The distance between the points is: 2.23606797749979\n"
          ]
        }
      ]
    },
    {
      "cell_type": "markdown",
      "source": [
        "2. Simple Word Filter\n",
        "- For a given string input, replace all the words “stupid” with an asterisk * equal to the length of the string. The new string value should be displayed with the asterisks.\n"
      ],
      "metadata": {
        "id": "bSp-XE1YlRqf"
      }
    },
    {
      "cell_type": "code",
      "source": [
        "def word_filter(input_string):\n",
        "    filtered_string = input_string.replace(\"stupid\", \"*\" * len(\"stupid\"))\n",
        "    return (filtered_string)\n",
        "\n",
        "input_string = \"stupid\"\n",
        "\n",
        "filtered_string = word_filter(input_string)\n",
        "print(filtered_string)"
      ],
      "metadata": {
        "colab": {
          "base_uri": "https://localhost:8080/"
        },
        "id": "Sm0j7QKNldZI",
        "outputId": "e81bae3f-0543-4a51-ea1f-2c1f9e526eb8"
      },
      "execution_count": 21,
      "outputs": [
        {
          "output_type": "stream",
          "name": "stdout",
          "text": [
            "******\n"
          ]
        }
      ]
    },
    {
      "cell_type": "markdown",
      "source": [
        "3. Phonebook\n",
        "- Create a simple phonebook program that can read from a list of dictionaries. The program should be able to display a person’s name, contact, and address based from a user input which is the id of the record.\n"
      ],
      "metadata": {
        "id": "ZLrEDxxrmLEp"
      }
    },
    {
      "cell_type": "code",
      "source": [
        "phonebook = [{'id': 1, 'name': 'Sebastian Acebedo', 'contact': '09099398421', 'address': 'Barangay 176-A'},\n",
        "    {'id': 2, 'name': 'Jasmine Endrina', 'contact': '09916721762', 'address': 'Barangay 176-F'},\n",
        "    {'id': 3, 'name': 'Jhonmarc Tolledo', 'contact': '09987342671', 'address': 'Barangay 176-C'}]\n",
        "\n",
        "\n",
        "def search_phonebook(contact_id):\n",
        "    for record in phonebook:\n",
        "        if record['id'] == contact_id:\n",
        "            print(f\"Name: {record['name']}\")\n",
        "            print(f\"Contact: {record['contact']}\")\n",
        "            print(f\"Address: {record['address']}\")\n",
        "            return\n",
        "    print(\"No record found with that ID.\")\n",
        "\n",
        "\n",
        "contact_id = int(input(\"Enter the ID to search for: \"))\n",
        "\n",
        "search_phonebook(contact_id)"
      ],
      "metadata": {
        "colab": {
          "base_uri": "https://localhost:8080/"
        },
        "id": "doTzHWtomLdM",
        "outputId": "c1984314-d42d-4991-ce35-441c9f876194"
      },
      "execution_count": 27,
      "outputs": [
        {
          "output_type": "stream",
          "name": "stdout",
          "text": [
            "Enter the ID to search for: 1\n",
            "Name: Sebastian Acebedo\n",
            "Contact: 09099398421\n",
            "Address: Barangay 176-A\n"
          ]
        }
      ]
    },
    {
      "cell_type": "markdown",
      "source": [
        "#**QUESTIONS**"
      ],
      "metadata": {
        "id": "sVuZw4bwrTQl"
      }
    },
    {
      "cell_type": "markdown",
      "source": [
        "1. How do we display elements of lists, tuples, and strings?\n",
        "- We can show a list, tuple, or string like this; `list = [1, 2, 3]` , `str = ('hello world')`, and `tuple = (4, 5, 6)`"
      ],
      "metadata": {
        "id": "MprrVix0rZVZ"
      }
    },
    {
      "cell_type": "markdown",
      "source": [
        "2. Difference between a list, tuple, string, and dictionary (Use cases)\n",
        "- A list is like a box where you can add, remove, or change things, like a shopping list. While a tuple is like a box that you can't change, good for things that don't change, like coordinates. Now, a string is just text, like a name."
      ],
      "metadata": {
        "id": "ChnMQCKqsu0h"
      }
    },
    {
      "cell_type": "markdown",
      "source": [
        "3. Discuss the various string methods that were used in the activity. What does each of the methods do?\n",
        "- The `upper()` method change all letters in a string to uppercase, like for example, when you put `\"hello\".upper()` it turns into `\"HELLO\"`. The `lower()` method does the opposite by making it all letters lowercase, for example, `\"HELLO\".lower()` becomes `\"hello\"`.Now, The `format()` method allows to insert values into a string, such as `\"Hello, {}!\".format(\"John\")` turning into `\"Hello, John!\"`. Lastly, the `replace()` method replaces one word or letter with another, like `\"hello world\".replace(\"world\", \"CPE009\")` becoming `\"hello CPE009\"`."
      ],
      "metadata": {
        "id": "EaQ0m6qcuVU4"
      }
    },
    {
      "cell_type": "markdown",
      "source": [
        "#Conclusion"
      ],
      "metadata": {
        "id": "c4h25LTszzbi"
      }
    },
    {
      "cell_type": "markdown",
      "source": [
        "In summary, Python has different types of data such as lists, tuples, ranges, strings, and dictionaries. Sequence types such as lists, hold items that we access using index numbers or loops. Dictionaries, however, hold data in key-value pairs, which is easy to obtain information. Knowing how to use these data types helps me in organizing and handling data more efficiently in our programming."
      ],
      "metadata": {
        "id": "sQddpAm8z5Ut"
      }
    }
  ]
}
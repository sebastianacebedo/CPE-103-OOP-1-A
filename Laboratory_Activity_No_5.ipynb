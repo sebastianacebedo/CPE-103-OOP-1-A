{
  "nbformat": 4,
  "nbformat_minor": 0,
  "metadata": {
    "colab": {
      "provenance": [],
      "authorship_tag": "ABX9TyNvJnkNj/WvL3Bh2v5CdGLj",
      "include_colab_link": true
    },
    "kernelspec": {
      "name": "python3",
      "display_name": "Python 3"
    },
    "language_info": {
      "name": "python"
    }
  },
  "cells": [
    {
      "cell_type": "markdown",
      "metadata": {
        "id": "view-in-github",
        "colab_type": "text"
      },
      "source": [
        "<a href=\"https://colab.research.google.com/github/sebastianacebedo/CPE-103-OOP-1-A/blob/main/Laboratory_Activity_No_5.ipynb\" target=\"_parent\"><img src=\"https://colab.research.google.com/assets/colab-badge.svg\" alt=\"Open In Colab\"/></a>"
      ]
    },
    {
      "cell_type": "markdown",
      "source": [
        "#Exploring built-in functions"
      ],
      "metadata": {
        "id": "9zNvHQ8olmDn"
      }
    },
    {
      "cell_type": "code",
      "source": [
        "print(\"Propositional logic evaluator for discrete math\")\n",
        "\n",
        "variables = int(input(\"How many variables? \"))\n",
        "total_combinations = 2**variables\n",
        "\n",
        "combinations_list = []\n",
        "\n",
        "\n",
        "for i in range(total_combinations):\n",
        "    bin_equivalent = bin(i)[2:]\n",
        "    while len(bin_equivalent) <variables:\n",
        "        bin_equivalent=\"0\"+bin_equivalent\n",
        "    combinations_list.append(tuple (int(val) for val in bin_equivalent))\n",
        "\n",
        "expression = input(\"Enter the propositional logic expression: \")\n",
        "\n",
        "if variables == 2:\n",
        "    print(\"A B f\")\n",
        "    for A, B in combinations_list:\n",
        "        evaluated_expression = eval(expression)\n",
        "        print(A, B, evaluated_expression)\n",
        "\n",
        "elif variables == 3:\n",
        "    print(\"A B C f\")\n",
        "    for A,B,C in combinations_list:\n",
        "        evaluated_expression = eval(expression)\n",
        "        print (A, B, C, evaluated_expression)"
      ],
      "metadata": {
        "colab": {
          "base_uri": "https://localhost:8080/"
        },
        "id": "eI-CbeeBqsLd",
        "outputId": "68b19824-18cf-41c4-9250-e990c595573e"
      },
      "execution_count": null,
      "outputs": [
        {
          "output_type": "stream",
          "name": "stdout",
          "text": [
            "Propositional logic evaluator for discrete math\n",
            "How many variables? 3\n",
            "Enter the propositional logic expression: 16\n",
            "A B C f\n",
            "0 0 0 16\n",
            "0 0 1 16\n",
            "0 1 0 16\n",
            "0 1 1 16\n",
            "1 0 0 16\n",
            "1 0 1 16\n",
            "1 1 0 16\n",
            "1 1 1 16\n"
          ]
        }
      ]
    },
    {
      "cell_type": "markdown",
      "source": [
        "#Using the open() function for file handling"
      ],
      "metadata": {
        "id": "VSTBc6DyqsgW"
      }
    },
    {
      "cell_type": "code",
      "execution_count": null,
      "metadata": {
        "colab": {
          "base_uri": "https://localhost:8080/"
        },
        "id": "g-zxrEh_lkvY",
        "outputId": "8466f244-c978-4673-988f-9b9dfe1720e3"
      },
      "outputs": [
        {
          "output_type": "stream",
          "name": "stdout",
          "text": [
            "Hello, Royce Chua!\n",
            "Isn't this amazing!\n",
            "that we can create and write on text files\n",
            "using Python.\n"
          ]
        }
      ],
      "source": [
        "name = \"Royce Chua\"\n",
        "file = open(\"newfile1.txt\", 'w')\n",
        "file.write(f\"Hello, {name}!\\n\")\n",
        "file.write(\"Isn't this amazing!\\n\")\n",
        "file.write(\"that we can create and write on text files\\n\")\n",
        "file.write(\"using Python.\")\n",
        "file.close()\n",
        "\n",
        "file = open(\"newfile1.txt\", \"r\")\n",
        "data = file.read()\n",
        "print(data)\n",
        "file.close()"
      ]
    },
    {
      "cell_type": "markdown",
      "source": [
        "#User-defined Functions\n"
      ],
      "metadata": {
        "id": "wUR6qSxTqgR-"
      }
    },
    {
      "cell_type": "code",
      "source": [
        "def generate_truthtable(number_of_variables):\n",
        "    total_combinations = 2**number_of_variables\n",
        "\n",
        "    combinations_list = []\n",
        "    for i in range(total_combinations):\n",
        "        bin_equivalent = bin(i)[2:]\n",
        "        while len(bin_equivalent) < number_of_variables:\n",
        "            bin_equivalent = \"0\" + bin_equivalent\n",
        "        combinations_list.append(tuple(int(val) for val in bin_equivalent))\n",
        "    return combinations_list\n",
        "\n",
        "print(generate_truthtable(3))\n",
        "\n",
        "def generate_truthtable(number_of_variables=8):  # Default value of 8\n",
        "    if number_of_variables == 0:\n",
        "        return \"You need to enter an integer\"\n",
        "    else:\n",
        "        total_combinations = 2**number_of_variables\n",
        "        combinations_list = []\n",
        "        for i in range(total_combinations):\n",
        "            bin_equivalent = bin(i)[2:]\n",
        "            while len(bin_equivalent) < number_of_variables:\n",
        "                bin_equivalent = \"0\" + bin_equivalent  # Fixed: Should be \"0\", not \"8\"\n",
        "            combinations_list.append(tuple(int(val) for val in bin_equivalent))\n",
        "        return combinations_list"
      ],
      "metadata": {
        "colab": {
          "base_uri": "https://localhost:8080/"
        },
        "id": "LPZgO014ql4d",
        "outputId": "a1276d6f-fc14-47bc-cc6c-42a9fd9171dc"
      },
      "execution_count": null,
      "outputs": [
        {
          "output_type": "stream",
          "name": "stdout",
          "text": [
            "[(0, 0, 0), (0, 0, 1), (0, 1, 0), (0, 1, 1), (1, 0, 0), (1, 0, 1), (1, 1, 0), (1, 1, 1)]\n"
          ]
        }
      ]
    },
    {
      "cell_type": "markdown",
      "source": [
        "#Modules"
      ],
      "metadata": {
        "id": "f22cHMTmsb1N"
      }
    },
    {
      "cell_type": "code",
      "source": [
        "import math\n",
        "\n",
        "def quadratic_formula(a, b, c):\n",
        "    if b**2 - (4*a*c) < 0:  # Checking for imaginary roots\n",
        "        x1 = (complex(-b, math.floor(math.sqrt(abs(b**2 - (4*a*c)))))) / (2*a)\n",
        "        x2 = (complex(-b, -1*math.floor(math.sqrt(abs(b**2 - (4*a*c)))))) / (2*a)\n",
        "        return x1, x2\n",
        "    else:\n",
        "        x1 = (-b + math.sqrt(b**2 - (4*a*c))) / (2*a)\n",
        "        x2 = (-b - math.sqrt(b**2 - (4*a*c))) / (2*a)\n",
        "        return x1, x2\n",
        "print(quadratic_formula(1,2,3))"
      ],
      "metadata": {
        "colab": {
          "base_uri": "https://localhost:8080/"
        },
        "id": "hGQCb_XlsekF",
        "outputId": "d9282cb4-2a83-4225-93dd-5f2a05e8f25c"
      },
      "execution_count": null,
      "outputs": [
        {
          "output_type": "stream",
          "name": "stdout",
          "text": [
            "((-1+1j), (-1-1j))\n"
          ]
        }
      ]
    },
    {
      "cell_type": "code",
      "source": [
        "import math\n",
        "\n",
        "def angle_demo():\n",
        "    angle = math.sin(math.pi/2)\n",
        "    print(angle)\n",
        "\n",
        "    angle = math.sin(math.radians(90))\n",
        "    print(angle)\n",
        "\n",
        "angle_demo()"
      ],
      "metadata": {
        "colab": {
          "base_uri": "https://localhost:8080/"
        },
        "id": "QK2xxaqGuCy-",
        "outputId": "b463fa6c-6ea9-4724-fec8-3cc017b9c469"
      },
      "execution_count": null,
      "outputs": [
        {
          "output_type": "stream",
          "name": "stdout",
          "text": [
            "1.0\n",
            "1.0\n"
          ]
        }
      ]
    },
    {
      "cell_type": "code",
      "source": [
        "import time\n",
        "\n",
        "def pause():\n",
        "    for i in range(10,0,-1):\n",
        "        print(f\"The program will end in {i}..\")\n",
        "        time.sleep(1)\n",
        "\n",
        "pause()\n",
        "\n",
        "def current_time():\n",
        "    t = time.strftime(\"%I:%M%p\")\n",
        "    return t\n",
        "\n",
        "print(current_time())\n",
        "\n",
        "def current_date():\n",
        "    d = time.strftime(\"%b %d %Y\")\n",
        "    return d\n",
        "print(current_date())"
      ],
      "metadata": {
        "colab": {
          "base_uri": "https://localhost:8080/"
        },
        "id": "Q_5Zk82aujPm",
        "outputId": "7dc3ffda-377b-4faf-cb85-2261dd6cbf2b"
      },
      "execution_count": null,
      "outputs": [
        {
          "output_type": "stream",
          "name": "stdout",
          "text": [
            "The program will end in 10..\n",
            "The program will end in 9..\n",
            "The program will end in 8..\n",
            "The program will end in 7..\n",
            "The program will end in 6..\n",
            "The program will end in 5..\n",
            "The program will end in 4..\n",
            "The program will end in 3..\n",
            "The program will end in 2..\n",
            "The program will end in 1..\n",
            "08:36AM\n",
            "Feb 15 2025\n"
          ]
        }
      ]
    },
    {
      "cell_type": "markdown",
      "source": [
        "#User Defined Modules"
      ],
      "metadata": {
        "id": "4pclKEjnvvu-"
      }
    },
    {
      "cell_type": "code",
      "source": [
        "import time\n",
        "\n",
        "def pause():\n",
        "    for i in range(10, 0, -1):\n",
        "        print(f\"The program will end in {i}..\")\n",
        "        time.sleep(1)\n",
        "\n",
        "\n",
        "def current_time():\n",
        "    t = time.strftime(\"%I:%M%p\")\n",
        "    return t\n",
        "\n",
        "def current_date():\n",
        "    d = time.strftime(\"%b %d %Y\")\n",
        "    return d\n",
        "\n",
        "print(\"The current time is\", current_time())\n",
        "print(\"The current date is\", current_date())\n",
        ""
      ],
      "metadata": {
        "colab": {
          "base_uri": "https://localhost:8080/"
        },
        "id": "qLAJp7W6vzS8",
        "outputId": "7d81d43f-ed99-43a1-8452-983fbc3e881a"
      },
      "execution_count": 38,
      "outputs": [
        {
          "output_type": "stream",
          "name": "stdout",
          "text": [
            "The current time is 08:54AM\n",
            "The current date is Feb 15 2025\n"
          ]
        }
      ]
    },
    {
      "cell_type": "markdown",
      "source": [
        "#SUPPLEMENTARY ACTIVITY"
      ],
      "metadata": {
        "id": "GUy96-Byz-EO"
      }
    },
    {
      "cell_type": "markdown",
      "source": [
        "**SIMPLE WORD TEXT**"
      ],
      "metadata": {
        "id": "NIeKPm0k0H5N"
      }
    },
    {
      "cell_type": "code",
      "source": [
        "def filter_bad_words (sentence, bad_words):\n",
        "    for bad_word in bad_words:\n",
        "        sentence = sentence.replace(bad_word, '*' * len(bad_word))\n",
        "    return sentence\n",
        "\n",
        "\n",
        "sentence = \"This sentence contains of bad words like stupid and idiot.\"\n",
        "bad_words = [\"stupid\",\"idiot\"]\n",
        "\n",
        "filtered_sentence = filter_bad_words(sentence, bad_words)\n",
        "print(filtered_sentence)"
      ],
      "metadata": {
        "colab": {
          "base_uri": "https://localhost:8080/"
        },
        "id": "Nqe3YZPX6OGH",
        "outputId": "67e410bb-5210-4d90-ff3f-77e6fccb3855"
      },
      "execution_count": 65,
      "outputs": [
        {
          "output_type": "stream",
          "name": "stdout",
          "text": [
            "This sentence contains of bad words like ****** and *****.\n"
          ]
        }
      ]
    },
    {
      "cell_type": "markdown",
      "source": [
        "**PROJECTILE MOTION SOLVER**"
      ],
      "metadata": {
        "id": "BZwpq8qL7DiW"
      }
    },
    {
      "cell_type": "code",
      "source": [
        "import math\n",
        "def projectile_motion_solver(speed, angle):\n",
        "    angle_radians = math.radians(angle)\n",
        "    range_distance = speed**2 * math.sin(2*angle_radians)\n",
        "    return\n",
        "\n",
        "print(f\"Horizontal Direction: {range_distance:.4f} meters\")\n",
        "print(f\"Maximum Height: {max_height:.4f} meters\")\n",
        "\n"
      ],
      "metadata": {
        "colab": {
          "base_uri": "https://localhost:8080/"
        },
        "id": "h0hy8zGm7IZt",
        "outputId": "a5da450f-e695-4154-f738-3345955c0450"
      },
      "execution_count": 88,
      "outputs": [
        {
          "output_type": "stream",
          "name": "stdout",
          "text": [
            "Horizontal Direction: 7.9285 meters\n",
            "Maximum Height: 0.7213 meters\n"
          ]
        }
      ]
    },
    {
      "cell_type": "code",
      "source": [
        "import math\n",
        "\n",
        "def solve_quadratic(a, b, c):\n",
        "    discriminant = b**2 - 4*a*c\n",
        "    if discriminant > 0:\n",
        "        root1 = (-b + math.sqrt(discriminant)) / (2 * a)\n",
        "        root2 = (-b - math.sqrt(discriminant)) / (2 * a)\n",
        "        return root1, root2\n",
        "    elif discriminant == 0:\n",
        "        root = -b / (2 * a)\n",
        "        return root,\n",
        "    else:\n",
        "        return \"No Real Roots\"\n",
        "\n",
        "def log_to_file(a, b, c, result):\n",
        "    with open(\"quadratic_solver_log.txt\", \"a\") as file:\n",
        "        file.write(f\"Equation: {a}x^2 + {b}x + {c} = 0\\n\")\n",
        "        file.write(f\"Solution: {result}\\n\")\n",
        "        file.write(\"-\" * 30 + \"\\n\")\n",
        "\n",
        "def main():\n",
        "    try:\n",
        "        a = float(input(\"Enter coefficient a: \"))\n",
        "        b = float(input(\"Enter coefficient b: \"))\n",
        "        c = float(input(\"Enter coefficient c: \"))\n",
        "\n",
        "        if a == 0:\n",
        "            print(\"Coefficient 'a' cannot be zero in a quadratic equation.\")\n",
        "            return\n",
        "\n",
        "        result = solve_quadratic(a, b, c)\n",
        "        print(\"Solution:\", result)\n",
        "        log_to_file(a, b, c, result)\n",
        "    except ValueError:\n",
        "        print(\"Invalid input! Please enter numerical values.\")\n",
        "\n",
        "if __name__ == \"__main__\":\n",
        "    main()"
      ],
      "metadata": {
        "colab": {
          "base_uri": "https://localhost:8080/"
        },
        "id": "MNtyar50CJr_",
        "outputId": "c03aeceb-8343-4e74-8183-c2feb1e61f71"
      },
      "execution_count": 91,
      "outputs": [
        {
          "output_type": "stream",
          "name": "stdout",
          "text": [
            "Enter coefficient a: 3\n",
            "Enter coefficient b: 9\n",
            "Enter coefficient c: 0.25\n",
            "Solution: (-0.028039855612025377, -2.9719601443879746)\n"
          ]
        }
      ]
    },
    {
      "cell_type": "code",
      "source": [],
      "metadata": {
        "id": "kSu5-YYhDlvW"
      },
      "execution_count": null,
      "outputs": []
    }
  ]
}
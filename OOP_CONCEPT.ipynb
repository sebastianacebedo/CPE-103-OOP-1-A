{
  "nbformat": 4,
  "nbformat_minor": 0,
  "metadata": {
    "colab": {
      "provenance": [],
      "authorship_tag": "ABX9TyP7E7MVcY7Ejp2zLqC1i+8G",
      "include_colab_link": true
    },
    "kernelspec": {
      "name": "python3",
      "display_name": "Python 3"
    },
    "language_info": {
      "name": "python"
    }
  },
  "cells": [
    {
      "cell_type": "markdown",
      "metadata": {
        "id": "view-in-github",
        "colab_type": "text"
      },
      "source": [
        "<a href=\"https://colab.research.google.com/github/sebastianacebedo/CPE-103-OOP-1-A/blob/main/OOP_CONCEPT.ipynb\" target=\"_parent\"><img src=\"https://colab.research.google.com/assets/colab-badge.svg\" alt=\"Open In Colab\"/></a>"
      ]
    },
    {
      "cell_type": "markdown",
      "source": [
        "class constructor"
      ],
      "metadata": {
        "id": "riMeCXxo7WL9"
      }
    },
    {
      "cell_type": "code",
      "execution_count": 5,
      "metadata": {
        "id": "Kv3edSQJ5oLy"
      },
      "outputs": [],
      "source": [
        "class Car:\n",
        "  def __init__(self, name, color):\n",
        "    self.mame = name\n",
        "    self.color = color"
      ]
    },
    {
      "cell_type": "markdown",
      "source": [
        "methods"
      ],
      "metadata": {
        "id": "tqwlPbu49Muk"
      }
    },
    {
      "cell_type": "code",
      "source": [
        "class Car:\n",
        "  car_type = \"Sedan\"\n",
        "\n",
        "  def __init__(self, name, mileage):\n",
        "    self.name = name\n",
        "    self.mileage = mileage\n",
        "\n",
        "    def description(self):\n",
        "      return \"The {self.name} cars gives the milage of {self.mileage}km/l\"\n",
        "\n",
        "      def max_speed(self,speed):\n",
        "        return \"The{self.name} runs at the maximum speed of {speed}km/hr\""
      ],
      "metadata": {
        "id": "LjhmK6eC9TVz"
      },
      "execution_count": 8,
      "outputs": []
    },
    {
      "cell_type": "markdown",
      "source": [
        "Multiple objects with the same class"
      ],
      "metadata": {
        "id": "RXzbHgte-_nj"
      }
    },
    {
      "cell_type": "code",
      "source": [
        "class Car:\n",
        "\n",
        "  def __init__(self, name, mileage):\n",
        "    self.name = name\n",
        "    self.mileage = mileage\n",
        "\n",
        "  def description(self):\n",
        "      return f\"The {self.name} car gives the mileage of {self.mileage}km/l\"\n",
        "\n",
        "class BMW(Car):\n",
        "  pass\n",
        "\n",
        "class Audi(Car):\n",
        "  def Audi_decs (self):\n",
        "    return \"This is the description method of class Audi\"\n",
        "\n",
        "obj1=BMW(\"BMW 7-series\",39.53)\n",
        "print(obj1.description())\n",
        "\n",
        "obj2 = Audi(\"Audi A8 L\", 14)\n",
        "print(obj2.description())\n"
      ],
      "metadata": {
        "colab": {
          "base_uri": "https://localhost:8080/"
        },
        "id": "Rc1BwVJu_F-6",
        "outputId": "f618d3f8-4f90-4ed7-d42b-26654c0c61a2"
      },
      "execution_count": 18,
      "outputs": [
        {
          "output_type": "stream",
          "name": "stdout",
          "text": [
            "The BMW 7-series car gives the mileage of 39.53km/l\n",
            "The Audi A8 L car gives the mileage of 14km/l\n"
          ]
        }
      ]
    },
    {
      "cell_type": "markdown",
      "source": [
        "apply the OOP concept like class constructor, methods, inheritance to describe the sides of shape (e.g Triangle, Square, Rectangle)"
      ],
      "metadata": {
        "id": "6SqfkjngD5xL"
      }
    },
    {
      "cell_type": "code",
      "source": [
        "class Shapes:\n",
        "  def __init__(self, sides):\n",
        "   self.sides = sides\n",
        "\n",
        "  def description(self):\n",
        "    return f\"This shape has {self.sides} sides\"\n",
        "\n",
        "class Triangle(Shapes):\n",
        "  pass\n",
        "\n",
        "class Square(Shapes):\n",
        "  pass\n",
        "\n",
        "class Rectangle(Shapes):\n",
        "  pass\n",
        "\n",
        "obj1 = Triangle(3)\n",
        "obj2 = Square(4)\n",
        "obj3 = Rectangle(4)\n",
        "\n",
        "print(obj1.description())\n",
        "print(obj2.description())\n",
        "print(obj3.description())\n"
      ],
      "metadata": {
        "colab": {
          "base_uri": "https://localhost:8080/"
        },
        "id": "T2-Jwu8JERZi",
        "outputId": "ee23a266-28e6-4cd9-fc13-3aeb3a3fec60"
      },
      "execution_count": 25,
      "outputs": [
        {
          "output_type": "stream",
          "name": "stdout",
          "text": [
            "This shape has 3 sides\n",
            "This shape has 4 sides\n",
            "This shape has 4 sides\n"
          ]
        }
      ]
    },
    {
      "cell_type": "code",
      "source": [
        "class Shapes:\n",
        "  def __init__(self, name, sides):\n",
        "   self.sides = sides\n",
        "   self.name = name\n",
        "\n",
        "  def description(self):\n",
        "    return f\"The {self.name} has {self.sides} sides\"\n",
        "\n",
        "class Triangle(Shapes):\n",
        "  pass\n",
        "\n",
        "class Square(Shapes):\n",
        "  pass\n",
        "\n",
        "class Rectangle(Shapes):\n",
        "  pass\n",
        "\n",
        "obj1 = Triangle(\"Triangle\", 3)\n",
        "obj2 = Square(\"Square\", 4)\n",
        "obj3 = Rectangle(\"Rectangle\", 4)\n",
        "\n",
        "print(obj1.description())\n",
        "print(obj2.description())\n",
        "print(obj3.description())"
      ],
      "metadata": {
        "colab": {
          "base_uri": "https://localhost:8080/"
        },
        "id": "s65rsA_8JjtK",
        "outputId": "3e5f161d-1d13-49e9-a1a5-b7e4888bf36b"
      },
      "execution_count": 42,
      "outputs": [
        {
          "output_type": "stream",
          "name": "stdout",
          "text": [
            "The Triangle has 3 sides\n",
            "The Square has 4 sides\n",
            "The Rectangle has 4 sides\n"
          ]
        }
      ]
    },
    {
      "cell_type": "code",
      "source": [],
      "metadata": {
        "id": "dh_opADy9OM0"
      },
      "execution_count": null,
      "outputs": []
    },
    {
      "cell_type": "code",
      "source": [],
      "metadata": {
        "id": "RSEZynGU7ouE"
      },
      "execution_count": null,
      "outputs": []
    }
  ]
}
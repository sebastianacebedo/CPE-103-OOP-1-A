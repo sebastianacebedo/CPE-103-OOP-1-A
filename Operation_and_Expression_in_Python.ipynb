{
  "nbformat": 4,
  "nbformat_minor": 0,
  "metadata": {
    "colab": {
      "provenance": [],
      "authorship_tag": "ABX9TyMBclajFBVb2XZcpF0lV0RH",
      "include_colab_link": true
    },
    "kernelspec": {
      "name": "python3",
      "display_name": "Python 3"
    },
    "language_info": {
      "name": "python"
    }
  },
  "cells": [
    {
      "cell_type": "markdown",
      "metadata": {
        "id": "view-in-github",
        "colab_type": "text"
      },
      "source": [
        "<a href=\"https://colab.research.google.com/github/sebastianacebedo/CPE-103-OOP-1-A/blob/main/Operation_and_Expression_in_Python.ipynb\" target=\"_parent\"><img src=\"https://colab.research.google.com/assets/colab-badge.svg\" alt=\"Open In Colab\"/></a>"
      ]
    },
    {
      "cell_type": "markdown",
      "source": [
        "#Bolean Operators"
      ],
      "metadata": {
        "id": "_mMUdmL8x3NG"
      }
    },
    {
      "cell_type": "code",
      "source": [
        "print (10>9)\n",
        "print (10==9)\n",
        "print (10<9)"
      ],
      "metadata": {
        "colab": {
          "base_uri": "https://localhost:8080/"
        },
        "id": "wwxQ1RfzxXZd",
        "outputId": "1ff62676-ea21-4072-a7d9-ced737cdd052"
      },
      "execution_count": 2,
      "outputs": [
        {
          "output_type": "stream",
          "name": "stdout",
          "text": [
            "True\n",
            "False\n",
            "False\n"
          ]
        }
      ]
    },
    {
      "cell_type": "markdown",
      "source": [
        "# Bool Function"
      ],
      "metadata": {
        "id": "NLcW82qFy3HE"
      }
    },
    {
      "cell_type": "code",
      "source": [
        "print (bool (False))\n",
        "print (bool (None))\n",
        "print (bool (0))\n",
        "print (bool (\"\"))\n",
        "print (bool (()))\n",
        "print (bool ([]))\n",
        "print (bool ({}))\n",
        "\n"
      ],
      "metadata": {
        "colab": {
          "base_uri": "https://localhost:8080/"
        },
        "id": "VJypksjoyewt",
        "outputId": "eb35c83d-3553-4068-8426-4de659fd4e2e"
      },
      "execution_count": 4,
      "outputs": [
        {
          "output_type": "stream",
          "name": "stdout",
          "text": [
            "False\n",
            "False\n",
            "False\n",
            "False\n",
            "False\n",
            "False\n",
            "False\n"
          ]
        }
      ]
    },
    {
      "cell_type": "markdown",
      "source": [
        "#Function can return a boolean"
      ],
      "metadata": {
        "id": "vLrRgYoTzbD1"
      }
    },
    {
      "cell_type": "code",
      "source": [
        "def myFunction():\n",
        "  return True\n",
        "\n",
        "if myFunction():\n",
        "  print(\"YES!\")\n",
        "else:\n",
        "  print(\"NO!\")\n",
        "\n",
        "print( 10> 9)\n",
        "a = 6\n",
        "b = 7\n",
        "\n",
        "print (a == b)\n",
        "print (a != b)"
      ],
      "metadata": {
        "colab": {
          "base_uri": "https://localhost:8080/"
        },
        "id": "hp9SFfzkzgmF",
        "outputId": "bb992a50-1cd0-4c11-cf30-b5d82df2d66d"
      },
      "execution_count": 17,
      "outputs": [
        {
          "output_type": "stream",
          "name": "stdout",
          "text": [
            "YES!\n",
            "True\n",
            "False\n",
            "True\n"
          ]
        }
      ]
    },
    {
      "cell_type": "markdown",
      "source": [
        "# Python Operators"
      ],
      "metadata": {
        "id": "wm9oxH7u2fhN"
      }
    },
    {
      "cell_type": "code",
      "source": [
        "print (10 + 5)\n",
        "print (10 -5)\n",
        "print (10*5)\n",
        "print (10/5)\n",
        "print (10 % 3)\n",
        "print (10/3)\n",
        "print (10 **2)\n"
      ],
      "metadata": {
        "colab": {
          "base_uri": "https://localhost:8080/"
        },
        "id": "KMu_XpD62kPj",
        "outputId": "7aa9deba-a496-4166-9527-0f7e83eb55cc"
      },
      "execution_count": 18,
      "outputs": [
        {
          "output_type": "stream",
          "name": "stdout",
          "text": [
            "15\n",
            "5\n",
            "50\n",
            "2.0\n",
            "1\n",
            "3.3333333333333335\n",
            "100\n"
          ]
        }
      ]
    },
    {
      "cell_type": "markdown",
      "source": [
        "#Python Bitwise Operators"
      ],
      "metadata": {
        "id": "IZHmnG3g3HF1"
      }
    },
    {
      "cell_type": "code",
      "source": [
        "a=60\n",
        "b=13\n",
        "\n",
        "print (a & b)\n",
        "print (a | b)\n",
        "print (a ^ b)\n",
        "print (~a)\n",
        "print (a << 2)\n",
        "print (a >> 2)"
      ],
      "metadata": {
        "colab": {
          "base_uri": "https://localhost:8080/"
        },
        "id": "4aaIYFed3sqF",
        "outputId": "3fda6aa5-f8e4-40f4-a9fc-10ce53b42e87"
      },
      "execution_count": 23,
      "outputs": [
        {
          "output_type": "stream",
          "name": "stdout",
          "text": [
            "12\n",
            "61\n",
            "49\n",
            "-61\n",
            "240\n",
            "15\n"
          ]
        }
      ]
    },
    {
      "cell_type": "markdown",
      "source": [
        "#Python Assignment Operators"
      ],
      "metadata": {
        "id": "_Zdk0f0j6qnu"
      }
    },
    {
      "cell_type": "code",
      "source": [
        "\n",
        "\n",
        "x += 3\n",
        "x -= 3\n",
        "x *= 3\n",
        "x /= 3\n",
        "x % 3"
      ],
      "metadata": {
        "colab": {
          "base_uri": "https://localhost:8080/"
        },
        "id": "QTd1IfEk-Qlz",
        "outputId": "8ac7c19f-cf14-4d73-bcc6-36f3cbf92963"
      },
      "execution_count": 25,
      "outputs": [
        {
          "output_type": "execute_result",
          "data": {
            "text/plain": [
              "1.0"
            ]
          },
          "metadata": {},
          "execution_count": 25
        }
      ]
    },
    {
      "cell_type": "markdown",
      "source": [
        "#Identity Operator"
      ],
      "metadata": {
        "id": "51hoETsGGDHt"
      }
    },
    {
      "cell_type": "code",
      "source": [
        "x = -1\n",
        "y = 2\n",
        "\n",
        "print ( x is y)\n",
        "print ( x is not y)"
      ],
      "metadata": {
        "colab": {
          "base_uri": "https://localhost:8080/"
        },
        "id": "KBWNrCLTGWvl",
        "outputId": "d7fb0870-d4ef-4504-acdc-ee50b01fd1b3"
      },
      "execution_count": 27,
      "outputs": [
        {
          "output_type": "stream",
          "name": "stdout",
          "text": [
            "False\n",
            "True\n"
          ]
        }
      ]
    },
    {
      "cell_type": "markdown",
      "source": [
        "#Conditional Statement in Python"
      ],
      "metadata": {
        "id": "yVSCCTzlGrLl"
      }
    },
    {
      "cell_type": "code",
      "source": [
        " #1. If statement\n",
        "\n",
        "a = 12\n",
        "b = 100\n",
        "if b < a:\n",
        "  print(\"b is greater than a\")"
      ],
      "metadata": {
        "colab": {
          "base_uri": "https://localhost:8080/"
        },
        "id": "lJ-Mxc1YG4mN",
        "outputId": "7372b662-8089-4146-bcf2-213bf5ab282a"
      },
      "execution_count": 38,
      "outputs": [
        {
          "output_type": "stream",
          "name": "stdout",
          "text": [
            "b is not greater than a\n"
          ]
        }
      ]
    },
    {
      "cell_type": "code",
      "source": [
        "#2. Elif Statement\n",
        "a = 12\n",
        "b = 12\n",
        "if b > a:\n",
        "  print(\"b is greater than a\")\n",
        "elif a == b:\n",
        "  print(\"a and b are equal\")\n",
        ""
      ],
      "metadata": {
        "colab": {
          "base_uri": "https://localhost:8080/"
        },
        "id": "K9iOjk0ULqRl",
        "outputId": "25b26217-81f8-4aeb-ccdb-becb87dba790"
      },
      "execution_count": 44,
      "outputs": [
        {
          "output_type": "stream",
          "name": "stdout",
          "text": [
            "a and b are equal\n"
          ]
        }
      ]
    },
    {
      "cell_type": "code",
      "source": [
        "#3. Else Statement\n",
        "a = 200\n",
        "b = 33\n",
        "if b > a:\n",
        "  print(\"b is greater than a\")\n",
        "elif a == b:\n",
        "  print(\"a and b are equal\")\n",
        "else:\n",
        "  print(\"a is greater than b\")"
      ],
      "metadata": {
        "colab": {
          "base_uri": "https://localhost:8080/"
        },
        "id": "u8mesmdKMZUm",
        "outputId": "ece27b89-ded1-4563-a73c-6590529eb6a9"
      },
      "execution_count": 45,
      "outputs": [
        {
          "output_type": "stream",
          "name": "stdout",
          "text": [
            "a is greater than b\n"
          ]
        }
      ]
    },
    {
      "cell_type": "code",
      "source": [
        "#4. Short Hand if Statement\n",
        "a = 200\n",
        "b = 33\n",
        "if a > b: print(\"a is greater than b\")"
      ],
      "metadata": {
        "colab": {
          "base_uri": "https://localhost:8080/"
        },
        "id": "pRtQSAZyNBRO",
        "outputId": "40853586-039b-4603-b06b-223755335d2c"
      },
      "execution_count": 46,
      "outputs": [
        {
          "output_type": "stream",
          "name": "stdout",
          "text": [
            "a is greater than b\n"
          ]
        }
      ]
    },
    {
      "cell_type": "code",
      "source": [
        "#5. Short Hand If... else Statement\n",
        "a = 2\n",
        "b = 330\n",
        "print(\"A\") if a > b else print(\"B\")"
      ],
      "metadata": {
        "colab": {
          "base_uri": "https://localhost:8080/"
        },
        "id": "aKyZSWJRNSKU",
        "outputId": "3315edc5-51f5-4003-be93-9635f7e7f9b3"
      },
      "execution_count": 47,
      "outputs": [
        {
          "output_type": "stream",
          "name": "stdout",
          "text": [
            "B\n"
          ]
        }
      ]
    },
    {
      "cell_type": "code",
      "source": [
        "#And-both conditions are true\n",
        "a = 200\n",
        "b = 33\n",
        "c = 500\n",
        "if a > b and c > a:\n",
        "  print(\"Both conditions are True\")"
      ],
      "metadata": {
        "colab": {
          "base_uri": "https://localhost:8080/"
        },
        "id": "nSCVxqlqNnh-",
        "outputId": "e7acd7ed-8abc-4896-af2a-85c147e250b2"
      },
      "execution_count": 48,
      "outputs": [
        {
          "output_type": "stream",
          "name": "stdout",
          "text": [
            "Both conditions are True\n"
          ]
        }
      ]
    },
    {
      "cell_type": "markdown",
      "source": [
        "#Nested If"
      ],
      "metadata": {
        "id": "3w27UJzWPG_G"
      }
    },
    {
      "cell_type": "code",
      "source": [
        "# Or-at least one of the condition is true\n",
        "a = 200\n",
        "b = 33\n",
        "c = 500\n",
        "if a > b or a > c:\n",
        "  print(\"At least one of the conditions is True\")"
      ],
      "metadata": {
        "colab": {
          "base_uri": "https://localhost:8080/"
        },
        "id": "jtU_z1hvN4MV",
        "outputId": "ea2bef50-5d79-4c49-c399-7891150dbdc3"
      },
      "execution_count": 49,
      "outputs": [
        {
          "output_type": "stream",
          "name": "stdout",
          "text": [
            "At least one of the conditions is True\n"
          ]
        }
      ]
    },
    {
      "cell_type": "code",
      "source": [
        "x = 41\n",
        "\n",
        "if x > 10:\n",
        "  print(\"Above Ten,\")\n",
        "  if x > 20:\n",
        "    print(\"Above Twenty\")\n",
        "    if x > 30:\n",
        "      print(\"Above Thirty\")\n",
        "      if x > 40:\n",
        "        print(\"Above Forty\")\n",
        "        if x > 50:\n",
        "          print(\"Above Fifty\")\n",
        "        else:\n",
        "          print(\"Below Fifty\")"
      ],
      "metadata": {
        "colab": {
          "base_uri": "https://localhost:8080/"
        },
        "id": "NndG7DQBRUve",
        "outputId": "3206fb33-66c4-4647-858b-ca4a116b9021"
      },
      "execution_count": 59,
      "outputs": [
        {
          "output_type": "stream",
          "name": "stdout",
          "text": [
            "Above Ten,\n",
            "Above Twenty\n",
            "Above Thirty\n",
            "Above Forty\n",
            "Below Fifty\n"
          ]
        }
      ]
    },
    {
      "cell_type": "markdown",
      "source": [
        "#EXAMPLE 1\n",
        "- write a python program that determine if the input age is qualified to vote or not. The qualifying age is 18 years old and above"
      ],
      "metadata": {
        "id": "IVdX7f1SX1Ie"
      }
    },
    {
      "cell_type": "code",
      "source": [
        "age=int(input(\"Enter your age: \"))\n",
        "\n",
        "if age >= 18:\n",
        "  print(\"You are qualified to vote\")\n",
        "else:\n",
        "  print(\"You are not qualified to vote\")"
      ],
      "metadata": {
        "colab": {
          "base_uri": "https://localhost:8080/"
        },
        "id": "fo6h-9rfYJtW",
        "outputId": "7c928880-9b19-417b-e4fc-b3865d124602"
      },
      "execution_count": 61,
      "outputs": [
        {
          "output_type": "stream",
          "name": "stdout",
          "text": [
            "Enter your age: 18\n",
            "You are qualified to vote\n"
          ]
        }
      ]
    },
    {
      "cell_type": "markdown",
      "source": [
        "#EXAMPLE 2\n",
        "- Write a program that determine if the input number is POSITIVE, NEGATIVE, or ZERO\n"
      ],
      "metadata": {
        "id": "Ux0qPbhLYLcV"
      }
    },
    {
      "cell_type": "code",
      "source": [
        "num=int(input(\"Enter a number: \"))\n",
        "\n",
        "if num > 0:\n",
        "  print(\"The number is POSITIVE\")\n",
        "elif num < 0:\n",
        "  print(\"The number is NEGATIVE\")\n",
        "else:\n",
        "  print(\"The number is ZERO\")"
      ],
      "metadata": {
        "colab": {
          "base_uri": "https://localhost:8080/"
        },
        "id": "MKp_nyGIYwoG",
        "outputId": "ee6d9628-689e-4821-aef0-84bf0d77dc3e"
      },
      "execution_count": 64,
      "outputs": [
        {
          "output_type": "stream",
          "name": "stdout",
          "text": [
            "Enter a number: -15\n",
            "The number is NEGATIVE\n"
          ]
        }
      ]
    },
    {
      "cell_type": "markdown",
      "source": [
        "#EXAMPLE 3\n",
        "- Write a program to determine if the grade are:"
      ],
      "metadata": {
        "id": "LfKhIX_2ZmLm"
      }
    },
    {
      "cell_type": "code",
      "source": [
        "grade=int(input(\"Enter your grade: \"))\n",
        "\n",
        "if grade >= 75:\n",
        "  print(\"Passed\")\n",
        "elif grade == 74:\n",
        "  print(\"Remedial\")\n",
        "elif grade < 74:\n",
        "  print(\"Failed\")"
      ],
      "metadata": {
        "colab": {
          "base_uri": "https://localhost:8080/"
        },
        "id": "_vQGN8LRZ7wG",
        "outputId": "8793a775-25d2-4518-da87-c13c81d16efd"
      },
      "execution_count": 79,
      "outputs": [
        {
          "output_type": "stream",
          "name": "stdout",
          "text": [
            "Enter your grade: 73\n",
            "Failed\n"
          ]
        }
      ]
    }
  ]
}
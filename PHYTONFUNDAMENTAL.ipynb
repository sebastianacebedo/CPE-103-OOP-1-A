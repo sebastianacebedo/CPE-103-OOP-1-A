{
  "nbformat": 4,
  "nbformat_minor": 0,
  "metadata": {
    "colab": {
      "provenance": [],
      "authorship_tag": "ABX9TyMNzRvHb1F2okRjAIMRdi8G",
      "include_colab_link": true
    },
    "kernelspec": {
      "name": "python3",
      "display_name": "Python 3"
    },
    "language_info": {
      "name": "python"
    }
  },
  "cells": [
    {
      "cell_type": "markdown",
      "metadata": {
        "id": "view-in-github",
        "colab_type": "text"
      },
      "source": [
        "<a href=\"https://colab.research.google.com/github/sebastianacebedo/CPE-103-OOP-1-A/blob/main/PHYTONFUNDAMENTAL.ipynb\" target=\"_parent\"><img src=\"https://colab.research.google.com/assets/colab-badge.svg\" alt=\"Open In Colab\"/></a>"
      ]
    },
    {
      "cell_type": "markdown",
      "source": [
        "phyton indentation"
      ],
      "metadata": {
        "id": "ZCnVg7zXInyh"
      }
    },
    {
      "cell_type": "code",
      "execution_count": null,
      "metadata": {
        "colab": {
          "base_uri": "https://localhost:8080/"
        },
        "id": "-pFJDuFqEffG",
        "outputId": "e07a6a5f-5b75-4323-9a8a-4b7bbb91199d"
      },
      "outputs": [
        {
          "output_type": "stream",
          "name": "stdout",
          "text": [
            "five is greater than two!\n"
          ]
        }
      ],
      "source": [
        "if 5>2:\n",
        "  print(\"five is greater than two!\")\n"
      ]
    },
    {
      "cell_type": "markdown",
      "source": [
        "Phyton comment"
      ],
      "metadata": {
        "id": "p68xdTsRIvHy"
      }
    },
    {
      "cell_type": "code",
      "source": [
        "#This is a comment\n",
        "print (\"hello world\")"
      ],
      "metadata": {
        "colab": {
          "base_uri": "https://localhost:8080/"
        },
        "id": "-35xzcutIzAJ",
        "outputId": "1e8f65ba-313b-4fe9-8413-af02877be519"
      },
      "execution_count": null,
      "outputs": [
        {
          "output_type": "stream",
          "name": "stdout",
          "text": [
            "hello world\n"
          ]
        }
      ]
    },
    {
      "cell_type": "code",
      "source": [],
      "metadata": {
        "id": "UGXLJXOQIYMS"
      },
      "execution_count": null,
      "outputs": []
    },
    {
      "cell_type": "markdown",
      "source": [
        "Phyton Variable"
      ],
      "metadata": {
        "id": "pSqPgrq9JH-g"
      }
    },
    {
      "cell_type": "code",
      "source": [
        "x = 1\n",
        "a,b = 0, -1\n",
        "c = \"sally\"\n",
        "print (a,b,c)"
      ],
      "metadata": {
        "colab": {
          "base_uri": "https://localhost:8080/"
        },
        "id": "OaJ55PUSKDHZ",
        "outputId": "c398e5b8-8bf9-44e7-aeb9-b517231acb5b"
      },
      "execution_count": null,
      "outputs": [
        {
          "output_type": "stream",
          "name": "stdout",
          "text": [
            "0 -1 sally\n"
          ]
        }
      ]
    },
    {
      "cell_type": "code",
      "source": [],
      "metadata": {
        "id": "biQKn4tgJZsS"
      },
      "execution_count": null,
      "outputs": []
    },
    {
      "cell_type": "markdown",
      "source": [
        "Casting"
      ],
      "metadata": {
        "id": "fCd1Wh0CLp9R"
      }
    },
    {
      "cell_type": "code",
      "source": [
        "b=\"sally\" #This is a type of string\n",
        "b=int(4)\n",
        "print(b)\n",
        "\n",
        "b=float(4)\n",
        "print(b)"
      ],
      "metadata": {
        "colab": {
          "base_uri": "https://localhost:8080/"
        },
        "id": "-iJdWMybLwih",
        "outputId": "4546170b-4227-44e0-936b-9c858e1f3c6b"
      },
      "execution_count": null,
      "outputs": [
        {
          "output_type": "stream",
          "name": "stdout",
          "text": [
            "4\n",
            "4.0\n"
          ]
        }
      ]
    },
    {
      "cell_type": "markdown",
      "source": [
        "Type() Function"
      ],
      "metadata": {
        "id": "wYCN881eMuFp"
      }
    },
    {
      "cell_type": "code",
      "source": [
        "x=5\n",
        "y=\"john\"\n",
        "print(type(x))\n",
        "print(type(y))"
      ],
      "metadata": {
        "colab": {
          "base_uri": "https://localhost:8080/"
        },
        "id": "Do69X4tgMy2J",
        "outputId": "d3b6a3c0-deb4-4296-8b54-0b77064e223b"
      },
      "execution_count": null,
      "outputs": [
        {
          "output_type": "stream",
          "name": "stdout",
          "text": [
            "<class 'int'>\n",
            "<class 'str'>\n"
          ]
        }
      ]
    },
    {
      "cell_type": "markdown",
      "source": [
        "\"double quote\" or 'single quote'\n"
      ],
      "metadata": {
        "id": "82V__epLNZ-C"
      }
    },
    {
      "cell_type": "code",
      "source": [
        "y=\"Sebastian\"\n",
        "print (y)\n",
        "\n",
        "y='Sebastian'\n",
        "print (y)"
      ],
      "metadata": {
        "colab": {
          "base_uri": "https://localhost:8080/"
        },
        "id": "zIGwC7g1NwQ7",
        "outputId": "99146e90-f3b6-486c-9056-71624b650423"
      },
      "execution_count": null,
      "outputs": [
        {
          "output_type": "stream",
          "name": "stdout",
          "text": [
            "Sebastian\n",
            "sebastian\n"
          ]
        }
      ]
    },
    {
      "cell_type": "markdown",
      "source": [
        "Case Sensitive"
      ],
      "metadata": {
        "id": "xF571rZmOA2q"
      }
    },
    {
      "cell_type": "code",
      "source": [
        "a=4\n",
        "A=\"Sebastian\"\n",
        "print (a)\n",
        "print (A)"
      ],
      "metadata": {
        "colab": {
          "base_uri": "https://localhost:8080/"
        },
        "id": "OYODik7UOG5K",
        "outputId": "76ec9fb2-e945-44c9-b1a5-36efca5c174b"
      },
      "execution_count": null,
      "outputs": [
        {
          "output_type": "stream",
          "name": "stdout",
          "text": [
            "4\n",
            "Sebastian\n"
          ]
        }
      ]
    },
    {
      "cell_type": "markdown",
      "source": [
        "multiple variables"
      ],
      "metadata": {
        "id": "e_94OmYBOgPZ"
      }
    },
    {
      "cell_type": "code",
      "source": [
        "a,b,c = '1','2','3'\n",
        "print (a)\n",
        "print (b)\n",
        "print (c)"
      ],
      "metadata": {
        "colab": {
          "base_uri": "https://localhost:8080/"
        },
        "id": "7tzRxFryOo2J",
        "outputId": "9a8c2b63-9168-4a7f-8cce-5d5aeab54403"
      },
      "execution_count": null,
      "outputs": [
        {
          "output_type": "stream",
          "name": "stdout",
          "text": [
            "1\n",
            "2\n",
            "3\n"
          ]
        }
      ]
    },
    {
      "cell_type": "markdown",
      "source": [
        "One value to multiple variables"
      ],
      "metadata": {
        "id": "wDhFT3rpO_hi"
      }
    },
    {
      "cell_type": "code",
      "source": [
        "a=b=c = '4'\n",
        "print (a)\n",
        "print (b)\n",
        "print (c)"
      ],
      "metadata": {
        "colab": {
          "base_uri": "https://localhost:8080/"
        },
        "id": "TVC7Eht8PEax",
        "outputId": "09da9048-19e2-415e-a950-796eaa99348f"
      },
      "execution_count": null,
      "outputs": [
        {
          "output_type": "stream",
          "name": "stdout",
          "text": [
            "4\n",
            "4\n",
            "4\n"
          ]
        }
      ]
    },
    {
      "cell_type": "markdown",
      "source": [
        "Output variable"
      ],
      "metadata": {
        "id": "X3i7PBtEPVMh"
      }
    },
    {
      "cell_type": "code",
      "source": [
        "x='enjoying'\n",
        "print('Phyton programming is '+ x)"
      ],
      "metadata": {
        "colab": {
          "base_uri": "https://localhost:8080/"
        },
        "id": "yj81Ur8DPi7B",
        "outputId": "dfc61008-9c52-480b-fcbe-557e8618f614"
      },
      "execution_count": null,
      "outputs": [
        {
          "output_type": "stream",
          "name": "stdout",
          "text": [
            "phyton programming is enjoying\n"
          ]
        }
      ]
    },
    {
      "cell_type": "markdown",
      "source": [
        "Other way"
      ],
      "metadata": {
        "id": "RcYygWT6P2nS"
      }
    },
    {
      "cell_type": "code",
      "source": [
        "x = 'Phyton programming'\n",
        "y = ' is enjoying'\n",
        "print (x+y)"
      ],
      "metadata": {
        "colab": {
          "base_uri": "https://localhost:8080/"
        },
        "id": "xNObEnlQP9BY",
        "outputId": "07cedb93-53fa-47f6-e950-1d2fc54c58c6"
      },
      "execution_count": null,
      "outputs": [
        {
          "output_type": "stream",
          "name": "stdout",
          "text": [
            "Phyton programming is enjoying\n"
          ]
        }
      ]
    },
    {
      "cell_type": "markdown",
      "source": [
        "arithmetic operation"
      ],
      "metadata": {
        "id": "sV4LlV5XQSiZ"
      }
    },
    {
      "cell_type": "code",
      "source": [
        "#Floor division\n",
        "x=50\n",
        "y=4\n",
        "print (x//4)\n",
        "\n",
        "#division\n",
        "x=50\n",
        "y=4\n",
        "print (x/y)"
      ],
      "metadata": {
        "colab": {
          "base_uri": "https://localhost:8080/"
        },
        "id": "0fiDwrnPQ3SM",
        "outputId": "1157b391-330b-4067-b30a-faee62012c27"
      },
      "execution_count": null,
      "outputs": [
        {
          "output_type": "stream",
          "name": "stdout",
          "text": [
            "12\n",
            "12.5\n"
          ]
        }
      ]
    },
    {
      "cell_type": "markdown",
      "source": [
        "Comparison Operator"
      ],
      "metadata": {
        "id": "liY1fNqmSJEk"
      }
    },
    {
      "cell_type": "code",
      "source": [
        "x=5\n",
        "y=5\n",
        "print (x<y)\n"
      ],
      "metadata": {
        "colab": {
          "base_uri": "https://localhost:8080/"
        },
        "id": "e_1XVZWkSLUh",
        "outputId": "76219b98-4adf-4ee5-df83-01d30d978fcf"
      },
      "execution_count": 31,
      "outputs": [
        {
          "output_type": "stream",
          "name": "stdout",
          "text": [
            "False\n"
          ]
        }
      ]
    },
    {
      "cell_type": "markdown",
      "source": [
        "Logical operator"
      ],
      "metadata": {
        "id": "sJISt8ejTIaK"
      }
    },
    {
      "cell_type": "code",
      "source": [
        "a=100\n",
        "b=50\n",
        "x=25\n",
        "y=10\n",
        "\n",
        "print (a|b>=x&y)"
      ],
      "metadata": {
        "colab": {
          "base_uri": "https://localhost:8080/"
        },
        "id": "VpzfpsXWTLNB",
        "outputId": "f7fd7c9f-0edc-4067-a8ab-f78845cf568a"
      },
      "execution_count": 34,
      "outputs": [
        {
          "output_type": "stream",
          "name": "stdout",
          "text": [
            "True\n"
          ]
        }
      ]
    },
    {
      "cell_type": "markdown",
      "source": [
        "Bitwise Operator"
      ],
      "metadata": {
        "id": "dfz9apsvUXFq"
      }
    },
    {
      "cell_type": "code",
      "source": [
        "#decimal to binary\n",
        "#10=1010\n",
        "\n",
        "x=10\n",
        "x>>2\n",
        "\n",
        "print(x)"
      ],
      "metadata": {
        "colab": {
          "base_uri": "https://localhost:8080/"
        },
        "id": "BKrjTczyUan7",
        "outputId": "7fbd3ede-2134-4710-b6cf-d10a9ae8a0ae"
      },
      "execution_count": 48,
      "outputs": [
        {
          "output_type": "stream",
          "name": "stdout",
          "text": [
            "10\n"
          ]
        }
      ]
    },
    {
      "cell_type": "markdown",
      "source": [
        "**APPlICATION 1**"
      ],
      "metadata": {
        "id": "pcs6ddxVX6mK"
      }
    },
    {
      "cell_type": "code",
      "source": [
        "#Application 1\n",
        "#Area of Square=b*h\n",
        "b=float(input('Enter Base: '))\n",
        "h=float(input('Enter Height: '))\n",
        "Area= b*h\n",
        "print('Area of square: ' ,Area)"
      ],
      "metadata": {
        "colab": {
          "base_uri": "https://localhost:8080/"
        },
        "id": "RbLJX_HmYHOa",
        "outputId": "128a1759-5cb5-4273-e038-8c5f72841104"
      },
      "execution_count": 54,
      "outputs": [
        {
          "output_type": "stream",
          "name": "stdout",
          "text": [
            "Enter Base: 10\n",
            "Enter Height: 5\n",
            "Area of square:  50.0\n"
          ]
        }
      ]
    },
    {
      "cell_type": "code",
      "source": [
        "#Area of Trapezium\n",
        "a=float(input('Enter a: '))\n",
        "b=float(input('Enter b: '))\n",
        "h=float(input('Enter h: '))\n",
        "Area= (a+b)*h/2\n",
        "print('Area of Trapezium: ',Area)"
      ],
      "metadata": {
        "colab": {
          "base_uri": "https://localhost:8080/"
        },
        "id": "sFRqkxOHag96",
        "outputId": "f0cbba09-8e7e-449d-d48b-75bf3fee2d69"
      },
      "execution_count": 55,
      "outputs": [
        {
          "output_type": "stream",
          "name": "stdout",
          "text": [
            "Enter a: 10\n",
            "Enter b: 15\n",
            "Enter h: 2\n",
            "Area of Trapezium:  25.0\n"
          ]
        }
      ]
    },
    {
      "cell_type": "code",
      "source": [
        "#Area of circle\n",
        "pi=(3.14)\n",
        "r=float(input('Enter r: '))\n",
        "Area= pi*r**2\n",
        "print('Area of circle: ',Area)"
      ],
      "metadata": {
        "colab": {
          "base_uri": "https://localhost:8080/"
        },
        "id": "ntuiNjg-bg1i",
        "outputId": "f605f42c-7fed-436c-a0ab-2f658109606c"
      },
      "execution_count": 63,
      "outputs": [
        {
          "output_type": "stream",
          "name": "stdout",
          "text": [
            "Enter r: 15\n",
            "Area of circle:  706.5\n"
          ]
        }
      ]
    }
  ]
}
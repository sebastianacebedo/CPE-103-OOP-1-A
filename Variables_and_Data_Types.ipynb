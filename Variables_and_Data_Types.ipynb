{
  "nbformat": 4,
  "nbformat_minor": 0,
  "metadata": {
    "colab": {
      "provenance": [],
      "authorship_tag": "ABX9TyOoXSp+IekvVFrJByIG9HYB",
      "include_colab_link": true
    },
    "kernelspec": {
      "name": "python3",
      "display_name": "Python 3"
    },
    "language_info": {
      "name": "python"
    }
  },
  "cells": [
    {
      "cell_type": "markdown",
      "metadata": {
        "id": "view-in-github",
        "colab_type": "text"
      },
      "source": [
        "<a href=\"https://colab.research.google.com/github/sebastianacebedo/CPE-103-OOP-1-A/blob/main/Variables_and_Data_Types.ipynb\" target=\"_parent\"><img src=\"https://colab.research.google.com/assets/colab-badge.svg\" alt=\"Open In Colab\"/></a>"
      ]
    },
    {
      "cell_type": "markdown",
      "source": [
        "#NUMBERS"
      ],
      "metadata": {
        "id": "qNXIZqtg1BEp"
      }
    },
    {
      "cell_type": "code",
      "execution_count": null,
      "metadata": {
        "id": "Il6G7IWM0uyY"
      },
      "outputs": [],
      "source": [
        "varNum = 123\n",
        "pi = 3.14159"
      ]
    },
    {
      "cell_type": "markdown",
      "source": [
        "#Strings"
      ],
      "metadata": {
        "id": "XxsrMi4N1rGJ"
      }
    },
    {
      "cell_type": "code",
      "source": [
        "varString = \"Hello world\"\n",
        "varText = 'This is a text'\n"
      ],
      "metadata": {
        "id": "Aeb0L5Zw1tKo"
      },
      "execution_count": null,
      "outputs": []
    },
    {
      "cell_type": "markdown",
      "source": [
        "#LISTS"
      ],
      "metadata": {
        "id": "hp_aIGb_160B"
      }
    },
    {
      "cell_type": "code",
      "source": [
        "varList = [\"abc\", 123]"
      ],
      "metadata": {
        "id": "2p5fFKcK2AfR"
      },
      "execution_count": null,
      "outputs": []
    },
    {
      "cell_type": "markdown",
      "source": [
        "#TUPLES"
      ],
      "metadata": {
        "id": "N8-U8P5m2I7a"
      }
    },
    {
      "cell_type": "code",
      "source": [
        "varTuples = (\"abc\", 123 , \"Hello\")"
      ],
      "metadata": {
        "id": "FeE7AlBL2SqY"
      },
      "execution_count": null,
      "outputs": []
    },
    {
      "cell_type": "markdown",
      "source": [
        "#DICTIONARIES"
      ],
      "metadata": {
        "id": "sG8auxBA2uJh"
      }
    },
    {
      "cell_type": "code",
      "source": [
        "var = 3\n",
        "varDict = {'first':1, '2':'2nd', 3:var}"
      ],
      "metadata": {
        "id": "MRYQpveC2xo6"
      },
      "execution_count": null,
      "outputs": []
    },
    {
      "cell_type": "code",
      "source": [
        "varDict = {}\n",
        "varDict['first'=1]\n",
        "varDict['2']= '2nd'\n",
        "varDict[3]=var"
      ],
      "metadata": {
        "id": "k0kIvaEc3Y3a"
      },
      "execution_count": null,
      "outputs": []
    },
    {
      "cell_type": "markdown",
      "source": [
        "#ARITHMETIC"
      ],
      "metadata": {
        "id": "01qjLgxS3w66"
      }
    },
    {
      "cell_type": "code",
      "source": [
        "#Addition\n",
        "a = 5 + 3\n",
        "\n",
        "#Subtraction\n",
        "a = 5 -3\n",
        "\n",
        "#Multiplication\n",
        "a = 5 * 3\n",
        "\n",
        "#Exponent\n",
        "a = 5 ** 3\n",
        "\n",
        "#Division\n",
        "a = 5 / 3\n",
        "\n",
        "#Floor Division\n",
        "a = 5 // 3\n",
        "\n",
        "#Modulus\n",
        "a = 5 % 3\n",
        "\n",
        "#Increment/ Decrement\n",
        "a = 5\n",
        "a += 1\n",
        "\n",
        "#Decrement\n",
        "a = 5\n",
        "a -= 1\n",
        "\n",
        "#string Concatenation\n",
        "a = 'Hello ' + 'World'\n",
        "\n",
        "#Complex Expression\n",
        "a = 3 + 5 - 6 * 2/4\n",
        "\n"
      ],
      "metadata": {
        "colab": {
          "base_uri": "https://localhost:8080/"
        },
        "id": "VwYN9vre30yC",
        "outputId": "ccf2736b-cda8-4116-fda2-b6aa080ecac0"
      },
      "execution_count": 21,
      "outputs": [
        {
          "output_type": "stream",
          "name": "stdout",
          "text": [
            "5.0\n"
          ]
        }
      ]
    },
    {
      "cell_type": "markdown",
      "source": [
        "#Control Statements and Data Structures"
      ],
      "metadata": {
        "id": "bARZ3rSJ5DSJ"
      }
    },
    {
      "cell_type": "code",
      "source": [
        "#Conditional Statements\n",
        "\n",
        "#Boolean Conditions\n",
        "x = True\n",
        "\n",
        "if x:\n",
        "  print(\"var is True\")\n",
        "else:\n",
        "  print(\"var is False\")\n",
        "\n",
        "\n",
        "\n",
        "#String Conditions\n",
        "x = \"Hello World\"\n",
        "\n",
        "if x == \"Hello World\":\n",
        "  print(\"x is Hello World\")\n",
        "else:\n",
        "  print(\"x is not Hello World\")\n",
        "\n",
        "\n",
        "\n",
        "#Numerical Conditions\n",
        "x = 10\n",
        "\n",
        "if x == '10':\n",
        "  print(\"var x is a string\")\n",
        "elif x == 10:\n",
        "  print(\"var x is an integer\")\n",
        "else:\n",
        "  print(\"var x is none of the above\")\n",
        "\n",
        "\n",
        "\n",
        "#Multiple Conditions\n",
        "x = 10\n",
        "\n",
        "if x > 5 and x < 15 and x == 10:\n",
        "  print(\"var is ok\")\n",
        "else:\n",
        "  print(\"var is not ok\")"
      ],
      "metadata": {
        "colab": {
          "base_uri": "https://localhost:8080/"
        },
        "id": "XSZ26YnO5LxJ",
        "outputId": "e4ff0069-9b47-4652-80b8-96c38443b399"
      },
      "execution_count": 18,
      "outputs": [
        {
          "output_type": "stream",
          "name": "stdout",
          "text": [
            "var is True\n",
            "x is Hello World\n",
            "var x is an integer\n",
            "var is ok\n"
          ]
        }
      ]
    },
    {
      "cell_type": "markdown",
      "source": [
        "#Loops"
      ],
      "metadata": {
        "id": "VvpW7do46KwA"
      }
    },
    {
      "cell_type": "code",
      "source": [
        "#For Loops\n",
        "for var in range(0,5,2):\n",
        "  print(var)\n",
        "\n",
        "#While Loops\n",
        "var = 0\n",
        "while var < 5:\n",
        "  print(var)\n",
        "  var += 2\n",
        "\n",
        "\n",
        "#Nested Loops\n",
        "x = 0\n",
        "while x < 5:\n",
        "  for y in range(0,x):\n",
        "    print(y, end='')\n",
        "  x += 1\n",
        "  print()\n",
        "\n",
        "\n",
        "#Break and Continue\n",
        "x = 0\n",
        "while x < 10:\n",
        "  print(x\n",
        "  x += 1"
      ],
      "metadata": {
        "colab": {
          "base_uri": "https://localhost:8080/",
          "height": 106
        },
        "id": "S3ZA9jJP6MYh",
        "outputId": "642eada1-69c9-45da-98e7-0365f19e8298"
      },
      "execution_count": 17,
      "outputs": [
        {
          "output_type": "error",
          "ename": "SyntaxError",
          "evalue": "'(' was never closed (<ipython-input-17-a2a30147adc4>, line 24)",
          "traceback": [
            "\u001b[0;36m  File \u001b[0;32m\"<ipython-input-17-a2a30147adc4>\"\u001b[0;36m, line \u001b[0;32m24\u001b[0m\n\u001b[0;31m    print(x\u001b[0m\n\u001b[0m         ^\u001b[0m\n\u001b[0;31mSyntaxError\u001b[0m\u001b[0;31m:\u001b[0m '(' was never closed\n"
          ]
        }
      ]
    },
    {
      "cell_type": "markdown",
      "source": [
        "#Function"
      ],
      "metadata": {
        "id": "5bJGGDT76mJC"
      }
    },
    {
      "cell_type": "code",
      "source": [
        "def remainder (n, m):\n",
        "  while True:\n",
        "    if n - m < 0:\n",
        "      return n\n",
        "    else:\n",
        "      n = n - m\n",
        "\n",
        "remainder(10, 4)"
      ],
      "metadata": {
        "colab": {
          "base_uri": "https://localhost:8080/"
        },
        "id": "JJgDaLFs6rL5",
        "outputId": "7c6075eb-8da6-4e57-eb90-8be8dec01d1d"
      },
      "execution_count": 16,
      "outputs": [
        {
          "output_type": "execute_result",
          "data": {
            "text/plain": [
              "2"
            ]
          },
          "metadata": {},
          "execution_count": 16
        }
      ]
    },
    {
      "cell_type": "markdown",
      "source": [
        "#List"
      ],
      "metadata": {
        "id": "wWlYhSTf6-RB"
      }
    },
    {
      "cell_type": "code",
      "source": [
        "from os import remove\n",
        "pi = 3.14159\n",
        "varList = [1, 2, 'A','B', 'Hello', pi]\n",
        "\n",
        "print(varList[4])\n",
        "\n",
        "varList.append('World')\n",
        "print(varList[6])\n",
        "\n",
        "len(varList)\n",
        "\n",
        "print(varList[5])\n",
        "\n",
        "varList.remove(pi)\n",
        "print(varList[5])"
      ],
      "metadata": {
        "colab": {
          "base_uri": "https://localhost:8080/"
        },
        "id": "xKm8vMog7BUZ",
        "outputId": "f2f03bdc-28ae-4372-cff1-95a83b408034"
      },
      "execution_count": 15,
      "outputs": [
        {
          "output_type": "stream",
          "name": "stdout",
          "text": [
            "Hello\n",
            "World\n",
            "3.14159\n",
            "World\n"
          ]
        }
      ]
    },
    {
      "cell_type": "markdown",
      "source": [
        "#Dictionaries"
      ],
      "metadata": {
        "id": "8B1JYgpV752g"
      }
    },
    {
      "cell_type": "code",
      "source": [
        "var = \"Hello World\"\n",
        "varDict = {'first' : 123, 2: 'abc', '3':var, 4:['lista', 'listb']}\n",
        "\n",
        "print(varDict[2])\n",
        "\n",
        "print(varDict['3'])\n",
        "\n",
        "print(varDict[4])\n",
        "\n",
        "print(varDict[4][1])\n",
        "\n",
        "len(varDict)"
      ],
      "metadata": {
        "colab": {
          "base_uri": "https://localhost:8080/"
        },
        "id": "PXe_JQZI7-Gf",
        "outputId": "947851b5-4a44-4805-8272-5c39f7b71928"
      },
      "execution_count": 14,
      "outputs": [
        {
          "output_type": "stream",
          "name": "stdout",
          "text": [
            "abc\n",
            "Hello World\n",
            "['lista', 'listb']\n",
            "listb\n"
          ]
        },
        {
          "output_type": "execute_result",
          "data": {
            "text/plain": [
              "4"
            ]
          },
          "metadata": {},
          "execution_count": 14
        }
      ]
    },
    {
      "cell_type": "markdown",
      "source": [
        "#List Generators and Comprehension"
      ],
      "metadata": {
        "id": "3obz1LEQ88ib"
      }
    },
    {
      "cell_type": "code",
      "source": [
        "from ast import Num\n",
        "def gen_num_up_to(n):\n",
        "  num = 0\n",
        "  while num < n:\n",
        "    yield Num\n",
        "    nm += 1\n",
        "\n",
        "gen_num_up_to(5)\n",
        "\n",
        "#Note: This create an Object\n",
        "vaList = gen_num_up_to(5)\n",
        "print([var for var in varList])\n",
        "\n",
        "def gen_num_up_to(n):\n",
        "  num = 0\n",
        "  while num < n:\n",
        "    yield num\n",
        "    num += 1\n",
        "\n",
        "gen_num_up_to(5)\n",
        "\n",
        "varList = gen_num_up_to(5)\n",
        "print([var for var in varList])\n",
        "\n",
        "varList = range(0, 5, 2)\n",
        "print ([var for var in varList])"
      ],
      "metadata": {
        "colab": {
          "base_uri": "https://localhost:8080/"
        },
        "id": "023m97ej9E1o",
        "outputId": "d085f135-1078-4bc4-dfe3-b46496da713b"
      },
      "execution_count": 13,
      "outputs": [
        {
          "output_type": "stream",
          "name": "stdout",
          "text": [
            "[1, 2, 3, 4, 5, 6, 7, 8, 9, 10]\n",
            "[0, 1, 2, 3, 4]\n",
            "[0, 2, 4]\n"
          ]
        }
      ]
    },
    {
      "cell_type": "markdown",
      "source": [
        "#Slicing\n"
      ],
      "metadata": {
        "id": "ROLueE6R-IRw"
      }
    },
    {
      "cell_type": "code",
      "source": [
        "varList = [1, 2, 3, 4, 5, 6, 7, 8, 9, 10]\n",
        "print(varList[:5])\n",
        "\n",
        "print(varList[5:])\n",
        "\n",
        "print(varList[:-2])\n",
        "\n",
        "print(varList[-2:])\n",
        "\n",
        "print(varList[2:-2])\n",
        "\n",
        "print(varList[2:8:2])"
      ],
      "metadata": {
        "colab": {
          "base_uri": "https://localhost:8080/"
        },
        "id": "V3Vhhsmk-LPp",
        "outputId": "00fe1263-6dff-4def-b87a-289e5345c09e"
      },
      "execution_count": 12,
      "outputs": [
        {
          "output_type": "stream",
          "name": "stdout",
          "text": [
            "[1, 2, 3, 4, 5]\n",
            "[6, 7, 8, 9, 10]\n",
            "[1, 2, 3, 4, 5, 6, 7, 8]\n",
            "[9, 10]\n",
            "[3, 4, 5, 6, 7, 8]\n",
            "[3, 5, 7]\n"
          ]
        }
      ]
    },
    {
      "cell_type": "code",
      "source": [],
      "metadata": {
        "id": "HJgqW7s7-SKU"
      },
      "execution_count": null,
      "outputs": []
    }
  ]
}
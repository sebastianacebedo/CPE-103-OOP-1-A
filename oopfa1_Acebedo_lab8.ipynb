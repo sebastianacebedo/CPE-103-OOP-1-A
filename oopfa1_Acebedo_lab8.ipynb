{
  "nbformat": 4,
  "nbformat_minor": 0,
  "metadata": {
    "colab": {
      "provenance": [],
      "authorship_tag": "ABX9TyOFWZAYltiox95n7QH0wIto",
      "include_colab_link": true
    },
    "kernelspec": {
      "name": "python3",
      "display_name": "Python 3"
    },
    "language_info": {
      "name": "python"
    }
  },
  "cells": [
    {
      "cell_type": "markdown",
      "metadata": {
        "id": "view-in-github",
        "colab_type": "text"
      },
      "source": [
        "<a href=\"https://colab.research.google.com/github/sebastianacebedo/CPE-103-OOP-1-A/blob/main/oopfa1_Acebedo_lab8.ipynb\" target=\"_parent\"><img src=\"https://colab.research.google.com/assets/colab-badge.svg\" alt=\"Open In Colab\"/></a>"
      ]
    },
    {
      "cell_type": "code",
      "source": [
        "# distance is a class. Distance is measured in terms of feet and inches\n",
        "class Distance:\n",
        "    def __init__(self, f, i):\n",
        "        self.feet = f\n",
        "        self.inches = i\n",
        "\n",
        "    # Overloading the binary operator > to compare two distances\n",
        "    def __gt__(self, d):\n",
        "        if self.feet > d.feet:\n",
        "            return True\n",
        "        elif self.feet == d.feet and self.inches > d.inches:\n",
        "            return True\n",
        "        else:\n",
        "            return False\n",
        "\n",
        "    # Overloading the binary operator + to add two distances\n",
        "    def __add__(self, d):\n",
        "        i = self.inches + d.inches\n",
        "        f = self.feet + d.feet\n",
        "        if i >= 12:\n",
        "            i -= 12\n",
        "            f += 1\n",
        "        return Distance(f, i)\n",
        "\n",
        "    # Displaying the distance\n",
        "    def show(self):\n",
        "        print(\"Feet =\", self.feet, \"Inches =\", self.inches)\n",
        "\n",
        "# Input for the distances\n",
        "a, b = input(\"Enter feet and inches of distance1: \").split()\n",
        "a, b = [int(a), int(b)]\n",
        "\n",
        "c, d = input(\"Enter feet and inches of distance2: \").split()\n",
        "c, d = [int(c), int(d)]\n",
        "\n",
        "# Create two distance objects\n",
        "d1 = Distance(a, b)\n",
        "d2 = Distance(c, d)\n",
        "\n",
        "# Compare the distances\n",
        "if d1 > d2:\n",
        "    print(\"Distance1 is greater than Distance2\")\n",
        "else:\n",
        "    print(\"Distance2 is greater or equal to Distance1\")\n",
        "\n",
        "# Add the two distances\n",
        "d3 = d1 + d2\n",
        "print(\"Sum of the two distances is:\")\n",
        "d3.show()"
      ],
      "metadata": {
        "colab": {
          "base_uri": "https://localhost:8080/"
        },
        "id": "Fi9q5hToMUMa",
        "outputId": "8cd8f268-adbf-4a06-82b5-7413bcc1ee59"
      },
      "execution_count": 15,
      "outputs": [
        {
          "output_type": "stream",
          "name": "stdout",
          "text": [
            "Enter feet and inches of distance1: 5 10\n",
            "Enter feet and inches of distance2: 2 3\n",
            "Distance1 is greater than Distance2\n",
            "Sum of the two distances is:\n",
            "Feet = 8 Inches = 1\n"
          ]
        }
      ]
    },
    {
      "cell_type": "code",
      "source": [
        "class RegularPolygon:\n",
        "    def __init__(self, side):\n",
        "        self._side = side\n",
        "\n",
        "class Square(RegularPolygon):\n",
        "    def area(self):\n",
        "        return self._side * self._side\n",
        "\n",
        "class EquilateralTriangle(RegularPolygon):\n",
        "    def area(self):\n",
        "        return self._side * self._side * 0.433\n",
        "\n",
        "obj1 = Square(4)\n",
        "obj2 = EquilateralTriangle(3)\n",
        "\n",
        "print(obj1.area())\n",
        "print(obj2.area())"
      ],
      "metadata": {
        "colab": {
          "base_uri": "https://localhost:8080/"
        },
        "id": "CiBrsm-ENNhT",
        "outputId": "0b2e3b92-a740-4b20-fc0e-40727f202a86"
      },
      "execution_count": 17,
      "outputs": [
        {
          "output_type": "stream",
          "name": "stdout",
          "text": [
            "16\n",
            "3.897\n"
          ]
        }
      ]
    },
    {
      "cell_type": "markdown",
      "source": [
        "#SUPPLEMENTARY ACTIVITY"
      ],
      "metadata": {
        "id": "KaZlHk2pOj7q"
      }
    },
    {
      "cell_type": "code",
      "source": [
        "class RegularPolygon:\n",
        "    #for all regular polygons\n",
        "    def __init__(self, side):\n",
        "        self._side = side\n",
        "\n",
        "class Square(RegularPolygon):\n",
        "    # Square has 4 equal sides\n",
        "    def area(self):\n",
        "        return round(self._side * self._side, 4)\n",
        "\n",
        "class EquilateralTriangle(RegularPolygon):\n",
        "    # Triangle has 3 equal sides, area calculated using 0.433 * side^2\n",
        "    def area(self):\n",
        "        return round(self._side * self._side * 0.433, 4)\n",
        "\n",
        "class Pentagon(RegularPolygon):\n",
        "    # Pentagon has 5 equal sides, area calculated using a special formula\n",
        "    def area(self):\n",
        "        return round((1/4) * (5 * (5 + 2 * (5 ** 0.5))) ** 0.5 * self._side ** 2, 4)\n",
        "\n",
        "class Hexagon(RegularPolygon):\n",
        "    # Hexagon has 6 equal sides, area calculated using a specific formula\n",
        "    def area(self):\n",
        "        return round((3 * (3 ** 0.5) / 2) * self._side ** 2, 4)\n",
        "\n",
        "class Octagon(RegularPolygon):\n",
        "    # Octagon has 8 equal sides, area calculated using a derived formula\n",
        "    def area(self):\n",
        "        return round(2 * (1 + (2 ** 0.5)) * self._side ** 2, 4)\n",
        "\n",
        "# Creating objects for each shape with given side lengths\n",
        "obj1 = Square(4)\n",
        "obj2 = EquilateralTriangle(3)\n",
        "obj3 = Pentagon(5)\n",
        "obj4 = Hexagon(6)\n",
        "obj5 = Octagon(7)\n",
        "\n",
        "# Printing calculated\n",
        "print(\"Square Area: %.2f\" % obj1.area())\n",
        "print(\"Equilateral Triangle Area: %.2f\" % obj2.area())\n",
        "print(\"Pentagon Area: %.2f\" % obj3.area())\n",
        "print(\"Hexagon Area: %.2f\" % obj4.area())\n",
        "print(\"Octagon Area: %.2f\" % obj5.area())\n"
      ],
      "metadata": {
        "colab": {
          "base_uri": "https://localhost:8080/"
        },
        "id": "25WXwKuyOo9S",
        "outputId": "8bfa69ad-d16e-4edd-cbe1-ecd37e0b982f"
      },
      "execution_count": 21,
      "outputs": [
        {
          "output_type": "stream",
          "name": "stdout",
          "text": [
            "Square Area: 16\n",
            "Equilateral Triangle Area: 3.897\n",
            "Pentagon Area: 43.01\n",
            "Hexagon Area: 93.53\n",
            "Octagon Area: 236.59\n"
          ]
        }
      ]
    },
    {
      "cell_type": "markdown",
      "source": [
        "Square (Side = 4)\n",
        "The area is 16.00, calculated using the formula side × side (4 × 4).\n",
        "\n",
        "Equilateral Triangle (Side = 3)\n",
        "The area is 3.90, calculated using the formula 0.433 × side² (0.433 × 3²).\n",
        "\n",
        "Pentagon (Side = 5)\n",
        "The area is 43.01, calculated using a specific pentagon area formula.\n",
        "\n",
        "Hexagon (Side = 6)\n",
        "The area is 93.53, calculated using the formula (3√3 / 2) × side².\n",
        "\n",
        "Octagon (Side = 7)\n",
        "The area is 118.74, calculated using the formula 2 × (1 + √2) × side².\n",
        "\n",
        "\n",
        "\n",
        "\n",
        "\n"
      ],
      "metadata": {
        "id": "Wqes_24Gg04c"
      }
    }
  ]
}